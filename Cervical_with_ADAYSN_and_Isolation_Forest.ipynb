{
 "cells": [
  {
   "cell_type": "code",
   "execution_count": 3,
   "metadata": {},
   "outputs": [],
   "source": [
    "import numpy as np\n",
    "import pandas as pd\n",
    "import matplotlib.pyplot as plt\n",
    "import seaborn as sns\n",
    "from sklearn.model_selection import train_test_split, GridSearchCV, RandomizedSearchCV\n",
    "from sklearn.tree import DecisionTreeClassifier, DecisionTreeRegressor \n",
    "from sklearn.ensemble import RandomForestClassifier, RandomForestRegressor, BaggingClassifier,AdaBoostClassifier,GradientBoostingClassifier\n",
    "from sklearn.linear_model import LinearRegression,LogisticRegression\n",
    "from sklearn.neighbors import KNeighborsClassifier\n",
    "from sklearn.naive_bayes import GaussianNB\n",
    "from sklearn import metrics\n",
    "from sklearn.preprocessing import StandardScaler\n",
    "from sklearn.feature_selection import RFE\n",
    "from collections import Counter\n",
    "from imblearn.over_sampling import SMOTE\n",
    "import warnings\n",
    "warnings.filterwarnings('ignore')"
   ]
  },
  {
   "cell_type": "code",
   "execution_count": 4,
   "metadata": {},
   "outputs": [],
   "source": [
    "df=pd.read_csv(\"datasets/cervical_cancer.csv\")\n",
    "\n",
    "pd.set_option('display.max_columns', 40)"
   ]
  },
  {
   "cell_type": "code",
   "execution_count": 5,
   "metadata": {},
   "outputs": [
    {
     "data": {
      "text/html": [
       "<div>\n",
       "<style scoped>\n",
       "    .dataframe tbody tr th:only-of-type {\n",
       "        vertical-align: middle;\n",
       "    }\n",
       "\n",
       "    .dataframe tbody tr th {\n",
       "        vertical-align: top;\n",
       "    }\n",
       "\n",
       "    .dataframe thead th {\n",
       "        text-align: right;\n",
       "    }\n",
       "</style>\n",
       "<table border=\"1\" class=\"dataframe\">\n",
       "  <thead>\n",
       "    <tr style=\"text-align: right;\">\n",
       "      <th></th>\n",
       "      <th>1</th>\n",
       "      <th>Number of sexual partners</th>\n",
       "      <th>First sexual intercourse</th>\n",
       "      <th>Num of pregnancies</th>\n",
       "      <th>Smokes</th>\n",
       "      <th>Smokes (years)</th>\n",
       "      <th>Smokes (packs/year)</th>\n",
       "      <th>Hormonal Contraceptives</th>\n",
       "      <th>Hormonal Contraceptives (years)</th>\n",
       "      <th>IUD</th>\n",
       "      <th>IUD (years)</th>\n",
       "      <th>STDs</th>\n",
       "      <th>STDs (number)</th>\n",
       "      <th>STDs:condylomatosis</th>\n",
       "      <th>STDs:cervical condylomatosis</th>\n",
       "      <th>STDs:vaginal condylomatosis</th>\n",
       "      <th>STDs:vulvo-perineal condylomatosis</th>\n",
       "      <th>STDs:syphilis</th>\n",
       "      <th>STDs:pelvic inflammatory disease</th>\n",
       "      <th>STDs:genital herpes</th>\n",
       "      <th>STDs:molluscum contagiosum</th>\n",
       "      <th>STDs:AIDS</th>\n",
       "      <th>STDs:HIV</th>\n",
       "      <th>STDs:Hepatitis B</th>\n",
       "      <th>STDs:HPV</th>\n",
       "      <th>STDs: Number of diagnosis</th>\n",
       "      <th>STDs: Time since first diagnosis</th>\n",
       "      <th>STDs: Time since last diagnosis</th>\n",
       "      <th>Dx:Cancer</th>\n",
       "      <th>Dx:CIN</th>\n",
       "      <th>Dx:HPV</th>\n",
       "      <th>Dx</th>\n",
       "      <th>Hinselmann</th>\n",
       "      <th>Schiller</th>\n",
       "      <th>Citology</th>\n",
       "      <th>Biopsy</th>\n",
       "    </tr>\n",
       "  </thead>\n",
       "  <tbody>\n",
       "    <tr>\n",
       "      <td>0</td>\n",
       "      <td>18</td>\n",
       "      <td>4</td>\n",
       "      <td>15</td>\n",
       "      <td>1</td>\n",
       "      <td>0</td>\n",
       "      <td>0</td>\n",
       "      <td>0</td>\n",
       "      <td>0</td>\n",
       "      <td>0</td>\n",
       "      <td>0</td>\n",
       "      <td>0</td>\n",
       "      <td>0</td>\n",
       "      <td>0</td>\n",
       "      <td>0</td>\n",
       "      <td>0</td>\n",
       "      <td>0</td>\n",
       "      <td>0</td>\n",
       "      <td>0</td>\n",
       "      <td>0</td>\n",
       "      <td>0</td>\n",
       "      <td>0</td>\n",
       "      <td>0</td>\n",
       "      <td>0</td>\n",
       "      <td>0</td>\n",
       "      <td>0</td>\n",
       "      <td>0</td>\n",
       "      <td>?</td>\n",
       "      <td>?</td>\n",
       "      <td>0</td>\n",
       "      <td>0</td>\n",
       "      <td>0</td>\n",
       "      <td>0</td>\n",
       "      <td>0</td>\n",
       "      <td>0</td>\n",
       "      <td>0</td>\n",
       "      <td>0</td>\n",
       "    </tr>\n",
       "    <tr>\n",
       "      <td>1</td>\n",
       "      <td>15</td>\n",
       "      <td>1</td>\n",
       "      <td>14</td>\n",
       "      <td>1</td>\n",
       "      <td>0</td>\n",
       "      <td>0</td>\n",
       "      <td>0</td>\n",
       "      <td>0</td>\n",
       "      <td>0</td>\n",
       "      <td>0</td>\n",
       "      <td>0</td>\n",
       "      <td>0</td>\n",
       "      <td>0</td>\n",
       "      <td>0</td>\n",
       "      <td>0</td>\n",
       "      <td>0</td>\n",
       "      <td>0</td>\n",
       "      <td>0</td>\n",
       "      <td>0</td>\n",
       "      <td>0</td>\n",
       "      <td>0</td>\n",
       "      <td>0</td>\n",
       "      <td>0</td>\n",
       "      <td>0</td>\n",
       "      <td>0</td>\n",
       "      <td>0</td>\n",
       "      <td>?</td>\n",
       "      <td>?</td>\n",
       "      <td>0</td>\n",
       "      <td>0</td>\n",
       "      <td>0</td>\n",
       "      <td>0</td>\n",
       "      <td>0</td>\n",
       "      <td>0</td>\n",
       "      <td>0</td>\n",
       "      <td>0</td>\n",
       "    </tr>\n",
       "    <tr>\n",
       "      <td>2</td>\n",
       "      <td>34</td>\n",
       "      <td>1</td>\n",
       "      <td>?</td>\n",
       "      <td>1</td>\n",
       "      <td>0</td>\n",
       "      <td>0</td>\n",
       "      <td>0</td>\n",
       "      <td>0</td>\n",
       "      <td>0</td>\n",
       "      <td>0</td>\n",
       "      <td>0</td>\n",
       "      <td>0</td>\n",
       "      <td>0</td>\n",
       "      <td>0</td>\n",
       "      <td>0</td>\n",
       "      <td>0</td>\n",
       "      <td>0</td>\n",
       "      <td>0</td>\n",
       "      <td>0</td>\n",
       "      <td>0</td>\n",
       "      <td>0</td>\n",
       "      <td>0</td>\n",
       "      <td>0</td>\n",
       "      <td>0</td>\n",
       "      <td>0</td>\n",
       "      <td>0</td>\n",
       "      <td>?</td>\n",
       "      <td>?</td>\n",
       "      <td>0</td>\n",
       "      <td>0</td>\n",
       "      <td>0</td>\n",
       "      <td>0</td>\n",
       "      <td>0</td>\n",
       "      <td>0</td>\n",
       "      <td>0</td>\n",
       "      <td>0</td>\n",
       "    </tr>\n",
       "    <tr>\n",
       "      <td>3</td>\n",
       "      <td>52</td>\n",
       "      <td>5</td>\n",
       "      <td>16</td>\n",
       "      <td>4</td>\n",
       "      <td>1</td>\n",
       "      <td>37</td>\n",
       "      <td>37</td>\n",
       "      <td>1</td>\n",
       "      <td>3</td>\n",
       "      <td>0</td>\n",
       "      <td>0</td>\n",
       "      <td>0</td>\n",
       "      <td>0</td>\n",
       "      <td>0</td>\n",
       "      <td>0</td>\n",
       "      <td>0</td>\n",
       "      <td>0</td>\n",
       "      <td>0</td>\n",
       "      <td>0</td>\n",
       "      <td>0</td>\n",
       "      <td>0</td>\n",
       "      <td>0</td>\n",
       "      <td>0</td>\n",
       "      <td>0</td>\n",
       "      <td>0</td>\n",
       "      <td>0</td>\n",
       "      <td>?</td>\n",
       "      <td>?</td>\n",
       "      <td>1</td>\n",
       "      <td>0</td>\n",
       "      <td>1</td>\n",
       "      <td>0</td>\n",
       "      <td>0</td>\n",
       "      <td>0</td>\n",
       "      <td>0</td>\n",
       "      <td>0</td>\n",
       "    </tr>\n",
       "    <tr>\n",
       "      <td>4</td>\n",
       "      <td>46</td>\n",
       "      <td>3</td>\n",
       "      <td>21</td>\n",
       "      <td>4</td>\n",
       "      <td>0</td>\n",
       "      <td>0</td>\n",
       "      <td>0</td>\n",
       "      <td>1</td>\n",
       "      <td>15</td>\n",
       "      <td>0</td>\n",
       "      <td>0</td>\n",
       "      <td>0</td>\n",
       "      <td>0</td>\n",
       "      <td>0</td>\n",
       "      <td>0</td>\n",
       "      <td>0</td>\n",
       "      <td>0</td>\n",
       "      <td>0</td>\n",
       "      <td>0</td>\n",
       "      <td>0</td>\n",
       "      <td>0</td>\n",
       "      <td>0</td>\n",
       "      <td>0</td>\n",
       "      <td>0</td>\n",
       "      <td>0</td>\n",
       "      <td>0</td>\n",
       "      <td>?</td>\n",
       "      <td>?</td>\n",
       "      <td>0</td>\n",
       "      <td>0</td>\n",
       "      <td>0</td>\n",
       "      <td>0</td>\n",
       "      <td>0</td>\n",
       "      <td>0</td>\n",
       "      <td>0</td>\n",
       "      <td>0</td>\n",
       "    </tr>\n",
       "    <tr>\n",
       "      <td>5</td>\n",
       "      <td>42</td>\n",
       "      <td>3</td>\n",
       "      <td>23</td>\n",
       "      <td>2</td>\n",
       "      <td>0</td>\n",
       "      <td>0</td>\n",
       "      <td>0</td>\n",
       "      <td>0</td>\n",
       "      <td>0</td>\n",
       "      <td>0</td>\n",
       "      <td>0</td>\n",
       "      <td>0</td>\n",
       "      <td>0</td>\n",
       "      <td>0</td>\n",
       "      <td>0</td>\n",
       "      <td>0</td>\n",
       "      <td>0</td>\n",
       "      <td>0</td>\n",
       "      <td>0</td>\n",
       "      <td>0</td>\n",
       "      <td>0</td>\n",
       "      <td>0</td>\n",
       "      <td>0</td>\n",
       "      <td>0</td>\n",
       "      <td>0</td>\n",
       "      <td>0</td>\n",
       "      <td>?</td>\n",
       "      <td>?</td>\n",
       "      <td>0</td>\n",
       "      <td>0</td>\n",
       "      <td>0</td>\n",
       "      <td>0</td>\n",
       "      <td>0</td>\n",
       "      <td>0</td>\n",
       "      <td>0</td>\n",
       "      <td>1</td>\n",
       "    </tr>\n",
       "    <tr>\n",
       "      <td>6</td>\n",
       "      <td>51</td>\n",
       "      <td>3</td>\n",
       "      <td>17</td>\n",
       "      <td>6</td>\n",
       "      <td>1</td>\n",
       "      <td>34</td>\n",
       "      <td>3.4</td>\n",
       "      <td>0</td>\n",
       "      <td>0</td>\n",
       "      <td>1</td>\n",
       "      <td>7</td>\n",
       "      <td>0</td>\n",
       "      <td>0</td>\n",
       "      <td>0</td>\n",
       "      <td>0</td>\n",
       "      <td>0</td>\n",
       "      <td>0</td>\n",
       "      <td>0</td>\n",
       "      <td>0</td>\n",
       "      <td>0</td>\n",
       "      <td>0</td>\n",
       "      <td>0</td>\n",
       "      <td>0</td>\n",
       "      <td>0</td>\n",
       "      <td>0</td>\n",
       "      <td>0</td>\n",
       "      <td>?</td>\n",
       "      <td>?</td>\n",
       "      <td>0</td>\n",
       "      <td>0</td>\n",
       "      <td>0</td>\n",
       "      <td>0</td>\n",
       "      <td>1</td>\n",
       "      <td>1</td>\n",
       "      <td>0</td>\n",
       "      <td>0</td>\n",
       "    </tr>\n",
       "    <tr>\n",
       "      <td>7</td>\n",
       "      <td>26</td>\n",
       "      <td>1</td>\n",
       "      <td>26</td>\n",
       "      <td>3</td>\n",
       "      <td>0</td>\n",
       "      <td>0</td>\n",
       "      <td>0</td>\n",
       "      <td>1</td>\n",
       "      <td>2</td>\n",
       "      <td>1</td>\n",
       "      <td>7</td>\n",
       "      <td>0</td>\n",
       "      <td>0</td>\n",
       "      <td>0</td>\n",
       "      <td>0</td>\n",
       "      <td>0</td>\n",
       "      <td>0</td>\n",
       "      <td>0</td>\n",
       "      <td>0</td>\n",
       "      <td>0</td>\n",
       "      <td>0</td>\n",
       "      <td>0</td>\n",
       "      <td>0</td>\n",
       "      <td>0</td>\n",
       "      <td>0</td>\n",
       "      <td>0</td>\n",
       "      <td>?</td>\n",
       "      <td>?</td>\n",
       "      <td>0</td>\n",
       "      <td>0</td>\n",
       "      <td>0</td>\n",
       "      <td>0</td>\n",
       "      <td>0</td>\n",
       "      <td>0</td>\n",
       "      <td>0</td>\n",
       "      <td>0</td>\n",
       "    </tr>\n",
       "    <tr>\n",
       "      <td>8</td>\n",
       "      <td>45</td>\n",
       "      <td>1</td>\n",
       "      <td>20</td>\n",
       "      <td>5</td>\n",
       "      <td>0</td>\n",
       "      <td>0</td>\n",
       "      <td>0</td>\n",
       "      <td>0</td>\n",
       "      <td>0</td>\n",
       "      <td>0</td>\n",
       "      <td>0</td>\n",
       "      <td>0</td>\n",
       "      <td>0</td>\n",
       "      <td>0</td>\n",
       "      <td>0</td>\n",
       "      <td>0</td>\n",
       "      <td>0</td>\n",
       "      <td>0</td>\n",
       "      <td>0</td>\n",
       "      <td>0</td>\n",
       "      <td>0</td>\n",
       "      <td>0</td>\n",
       "      <td>0</td>\n",
       "      <td>0</td>\n",
       "      <td>0</td>\n",
       "      <td>0</td>\n",
       "      <td>?</td>\n",
       "      <td>?</td>\n",
       "      <td>1</td>\n",
       "      <td>0</td>\n",
       "      <td>1</td>\n",
       "      <td>1</td>\n",
       "      <td>0</td>\n",
       "      <td>0</td>\n",
       "      <td>0</td>\n",
       "      <td>0</td>\n",
       "    </tr>\n",
       "    <tr>\n",
       "      <td>9</td>\n",
       "      <td>44</td>\n",
       "      <td>3</td>\n",
       "      <td>15</td>\n",
       "      <td>?</td>\n",
       "      <td>1</td>\n",
       "      <td>1.266972909</td>\n",
       "      <td>2.8</td>\n",
       "      <td>0</td>\n",
       "      <td>0</td>\n",
       "      <td>?</td>\n",
       "      <td>?</td>\n",
       "      <td>0</td>\n",
       "      <td>0</td>\n",
       "      <td>0</td>\n",
       "      <td>0</td>\n",
       "      <td>0</td>\n",
       "      <td>0</td>\n",
       "      <td>0</td>\n",
       "      <td>0</td>\n",
       "      <td>0</td>\n",
       "      <td>0</td>\n",
       "      <td>0</td>\n",
       "      <td>0</td>\n",
       "      <td>0</td>\n",
       "      <td>0</td>\n",
       "      <td>0</td>\n",
       "      <td>?</td>\n",
       "      <td>?</td>\n",
       "      <td>0</td>\n",
       "      <td>0</td>\n",
       "      <td>0</td>\n",
       "      <td>0</td>\n",
       "      <td>0</td>\n",
       "      <td>0</td>\n",
       "      <td>0</td>\n",
       "      <td>0</td>\n",
       "    </tr>\n",
       "    <tr>\n",
       "      <td>10</td>\n",
       "      <td>44</td>\n",
       "      <td>3</td>\n",
       "      <td>26</td>\n",
       "      <td>4</td>\n",
       "      <td>0</td>\n",
       "      <td>0</td>\n",
       "      <td>0</td>\n",
       "      <td>1</td>\n",
       "      <td>2</td>\n",
       "      <td>0</td>\n",
       "      <td>0</td>\n",
       "      <td>0</td>\n",
       "      <td>0</td>\n",
       "      <td>0</td>\n",
       "      <td>0</td>\n",
       "      <td>0</td>\n",
       "      <td>0</td>\n",
       "      <td>0</td>\n",
       "      <td>0</td>\n",
       "      <td>0</td>\n",
       "      <td>0</td>\n",
       "      <td>0</td>\n",
       "      <td>0</td>\n",
       "      <td>0</td>\n",
       "      <td>0</td>\n",
       "      <td>0</td>\n",
       "      <td>?</td>\n",
       "      <td>?</td>\n",
       "      <td>0</td>\n",
       "      <td>0</td>\n",
       "      <td>0</td>\n",
       "      <td>0</td>\n",
       "      <td>0</td>\n",
       "      <td>0</td>\n",
       "      <td>0</td>\n",
       "      <td>0</td>\n",
       "    </tr>\n",
       "    <tr>\n",
       "      <td>11</td>\n",
       "      <td>27</td>\n",
       "      <td>1</td>\n",
       "      <td>17</td>\n",
       "      <td>3</td>\n",
       "      <td>0</td>\n",
       "      <td>0</td>\n",
       "      <td>0</td>\n",
       "      <td>1</td>\n",
       "      <td>8</td>\n",
       "      <td>0</td>\n",
       "      <td>0</td>\n",
       "      <td>0</td>\n",
       "      <td>0</td>\n",
       "      <td>0</td>\n",
       "      <td>0</td>\n",
       "      <td>0</td>\n",
       "      <td>0</td>\n",
       "      <td>0</td>\n",
       "      <td>0</td>\n",
       "      <td>0</td>\n",
       "      <td>0</td>\n",
       "      <td>0</td>\n",
       "      <td>0</td>\n",
       "      <td>0</td>\n",
       "      <td>0</td>\n",
       "      <td>0</td>\n",
       "      <td>?</td>\n",
       "      <td>?</td>\n",
       "      <td>0</td>\n",
       "      <td>0</td>\n",
       "      <td>0</td>\n",
       "      <td>0</td>\n",
       "      <td>0</td>\n",
       "      <td>0</td>\n",
       "      <td>0</td>\n",
       "      <td>0</td>\n",
       "    </tr>\n",
       "    <tr>\n",
       "      <td>12</td>\n",
       "      <td>45</td>\n",
       "      <td>4</td>\n",
       "      <td>14</td>\n",
       "      <td>6</td>\n",
       "      <td>0</td>\n",
       "      <td>0</td>\n",
       "      <td>0</td>\n",
       "      <td>1</td>\n",
       "      <td>10</td>\n",
       "      <td>1</td>\n",
       "      <td>5</td>\n",
       "      <td>0</td>\n",
       "      <td>0</td>\n",
       "      <td>0</td>\n",
       "      <td>0</td>\n",
       "      <td>0</td>\n",
       "      <td>0</td>\n",
       "      <td>0</td>\n",
       "      <td>0</td>\n",
       "      <td>0</td>\n",
       "      <td>0</td>\n",
       "      <td>0</td>\n",
       "      <td>0</td>\n",
       "      <td>0</td>\n",
       "      <td>0</td>\n",
       "      <td>0</td>\n",
       "      <td>?</td>\n",
       "      <td>?</td>\n",
       "      <td>0</td>\n",
       "      <td>0</td>\n",
       "      <td>0</td>\n",
       "      <td>0</td>\n",
       "      <td>0</td>\n",
       "      <td>0</td>\n",
       "      <td>0</td>\n",
       "      <td>0</td>\n",
       "    </tr>\n",
       "    <tr>\n",
       "      <td>13</td>\n",
       "      <td>44</td>\n",
       "      <td>2</td>\n",
       "      <td>25</td>\n",
       "      <td>2</td>\n",
       "      <td>0</td>\n",
       "      <td>0</td>\n",
       "      <td>0</td>\n",
       "      <td>1</td>\n",
       "      <td>5</td>\n",
       "      <td>0</td>\n",
       "      <td>0</td>\n",
       "      <td>0</td>\n",
       "      <td>0</td>\n",
       "      <td>0</td>\n",
       "      <td>0</td>\n",
       "      <td>0</td>\n",
       "      <td>0</td>\n",
       "      <td>0</td>\n",
       "      <td>0</td>\n",
       "      <td>0</td>\n",
       "      <td>0</td>\n",
       "      <td>0</td>\n",
       "      <td>0</td>\n",
       "      <td>0</td>\n",
       "      <td>0</td>\n",
       "      <td>0</td>\n",
       "      <td>?</td>\n",
       "      <td>?</td>\n",
       "      <td>0</td>\n",
       "      <td>0</td>\n",
       "      <td>0</td>\n",
       "      <td>0</td>\n",
       "      <td>0</td>\n",
       "      <td>0</td>\n",
       "      <td>0</td>\n",
       "      <td>0</td>\n",
       "    </tr>\n",
       "    <tr>\n",
       "      <td>14</td>\n",
       "      <td>43</td>\n",
       "      <td>2</td>\n",
       "      <td>18</td>\n",
       "      <td>5</td>\n",
       "      <td>0</td>\n",
       "      <td>0</td>\n",
       "      <td>0</td>\n",
       "      <td>0</td>\n",
       "      <td>0</td>\n",
       "      <td>1</td>\n",
       "      <td>8</td>\n",
       "      <td>0</td>\n",
       "      <td>0</td>\n",
       "      <td>0</td>\n",
       "      <td>0</td>\n",
       "      <td>0</td>\n",
       "      <td>0</td>\n",
       "      <td>0</td>\n",
       "      <td>0</td>\n",
       "      <td>0</td>\n",
       "      <td>0</td>\n",
       "      <td>0</td>\n",
       "      <td>0</td>\n",
       "      <td>0</td>\n",
       "      <td>0</td>\n",
       "      <td>0</td>\n",
       "      <td>?</td>\n",
       "      <td>?</td>\n",
       "      <td>0</td>\n",
       "      <td>0</td>\n",
       "      <td>0</td>\n",
       "      <td>0</td>\n",
       "      <td>0</td>\n",
       "      <td>0</td>\n",
       "      <td>0</td>\n",
       "      <td>0</td>\n",
       "    </tr>\n",
       "    <tr>\n",
       "      <td>15</td>\n",
       "      <td>40</td>\n",
       "      <td>3</td>\n",
       "      <td>18</td>\n",
       "      <td>2</td>\n",
       "      <td>0</td>\n",
       "      <td>0</td>\n",
       "      <td>0</td>\n",
       "      <td>1</td>\n",
       "      <td>15</td>\n",
       "      <td>0</td>\n",
       "      <td>0</td>\n",
       "      <td>0</td>\n",
       "      <td>0</td>\n",
       "      <td>0</td>\n",
       "      <td>0</td>\n",
       "      <td>0</td>\n",
       "      <td>0</td>\n",
       "      <td>0</td>\n",
       "      <td>0</td>\n",
       "      <td>0</td>\n",
       "      <td>0</td>\n",
       "      <td>0</td>\n",
       "      <td>0</td>\n",
       "      <td>0</td>\n",
       "      <td>0</td>\n",
       "      <td>0</td>\n",
       "      <td>?</td>\n",
       "      <td>?</td>\n",
       "      <td>0</td>\n",
       "      <td>0</td>\n",
       "      <td>0</td>\n",
       "      <td>0</td>\n",
       "      <td>0</td>\n",
       "      <td>0</td>\n",
       "      <td>0</td>\n",
       "      <td>0</td>\n",
       "    </tr>\n",
       "    <tr>\n",
       "      <td>16</td>\n",
       "      <td>41</td>\n",
       "      <td>4</td>\n",
       "      <td>21</td>\n",
       "      <td>3</td>\n",
       "      <td>0</td>\n",
       "      <td>0</td>\n",
       "      <td>0</td>\n",
       "      <td>1</td>\n",
       "      <td>0.25</td>\n",
       "      <td>0</td>\n",
       "      <td>0</td>\n",
       "      <td>0</td>\n",
       "      <td>0</td>\n",
       "      <td>0</td>\n",
       "      <td>0</td>\n",
       "      <td>0</td>\n",
       "      <td>0</td>\n",
       "      <td>0</td>\n",
       "      <td>0</td>\n",
       "      <td>0</td>\n",
       "      <td>0</td>\n",
       "      <td>0</td>\n",
       "      <td>0</td>\n",
       "      <td>0</td>\n",
       "      <td>0</td>\n",
       "      <td>0</td>\n",
       "      <td>?</td>\n",
       "      <td>?</td>\n",
       "      <td>0</td>\n",
       "      <td>0</td>\n",
       "      <td>0</td>\n",
       "      <td>0</td>\n",
       "      <td>0</td>\n",
       "      <td>0</td>\n",
       "      <td>0</td>\n",
       "      <td>0</td>\n",
       "    </tr>\n",
       "    <tr>\n",
       "      <td>17</td>\n",
       "      <td>43</td>\n",
       "      <td>3</td>\n",
       "      <td>15</td>\n",
       "      <td>8</td>\n",
       "      <td>0</td>\n",
       "      <td>0</td>\n",
       "      <td>0</td>\n",
       "      <td>1</td>\n",
       "      <td>3</td>\n",
       "      <td>0</td>\n",
       "      <td>0</td>\n",
       "      <td>0</td>\n",
       "      <td>0</td>\n",
       "      <td>0</td>\n",
       "      <td>0</td>\n",
       "      <td>0</td>\n",
       "      <td>0</td>\n",
       "      <td>0</td>\n",
       "      <td>0</td>\n",
       "      <td>0</td>\n",
       "      <td>0</td>\n",
       "      <td>0</td>\n",
       "      <td>0</td>\n",
       "      <td>0</td>\n",
       "      <td>0</td>\n",
       "      <td>0</td>\n",
       "      <td>?</td>\n",
       "      <td>?</td>\n",
       "      <td>0</td>\n",
       "      <td>0</td>\n",
       "      <td>0</td>\n",
       "      <td>0</td>\n",
       "      <td>0</td>\n",
       "      <td>0</td>\n",
       "      <td>0</td>\n",
       "      <td>0</td>\n",
       "    </tr>\n",
       "    <tr>\n",
       "      <td>18</td>\n",
       "      <td>42</td>\n",
       "      <td>2</td>\n",
       "      <td>20</td>\n",
       "      <td>?</td>\n",
       "      <td>0</td>\n",
       "      <td>0</td>\n",
       "      <td>0</td>\n",
       "      <td>1</td>\n",
       "      <td>7</td>\n",
       "      <td>1</td>\n",
       "      <td>6</td>\n",
       "      <td>1</td>\n",
       "      <td>2</td>\n",
       "      <td>1</td>\n",
       "      <td>0</td>\n",
       "      <td>0</td>\n",
       "      <td>1</td>\n",
       "      <td>0</td>\n",
       "      <td>0</td>\n",
       "      <td>0</td>\n",
       "      <td>0</td>\n",
       "      <td>0</td>\n",
       "      <td>0</td>\n",
       "      <td>0</td>\n",
       "      <td>0</td>\n",
       "      <td>0</td>\n",
       "      <td>?</td>\n",
       "      <td>?</td>\n",
       "      <td>0</td>\n",
       "      <td>0</td>\n",
       "      <td>0</td>\n",
       "      <td>0</td>\n",
       "      <td>0</td>\n",
       "      <td>0</td>\n",
       "      <td>0</td>\n",
       "      <td>0</td>\n",
       "    </tr>\n",
       "    <tr>\n",
       "      <td>19</td>\n",
       "      <td>40</td>\n",
       "      <td>2</td>\n",
       "      <td>27</td>\n",
       "      <td>?</td>\n",
       "      <td>0</td>\n",
       "      <td>0</td>\n",
       "      <td>0</td>\n",
       "      <td>0</td>\n",
       "      <td>0</td>\n",
       "      <td>1</td>\n",
       "      <td>1</td>\n",
       "      <td>0</td>\n",
       "      <td>0</td>\n",
       "      <td>0</td>\n",
       "      <td>0</td>\n",
       "      <td>0</td>\n",
       "      <td>0</td>\n",
       "      <td>0</td>\n",
       "      <td>0</td>\n",
       "      <td>0</td>\n",
       "      <td>0</td>\n",
       "      <td>0</td>\n",
       "      <td>0</td>\n",
       "      <td>0</td>\n",
       "      <td>0</td>\n",
       "      <td>0</td>\n",
       "      <td>?</td>\n",
       "      <td>?</td>\n",
       "      <td>0</td>\n",
       "      <td>0</td>\n",
       "      <td>0</td>\n",
       "      <td>0</td>\n",
       "      <td>0</td>\n",
       "      <td>0</td>\n",
       "      <td>0</td>\n",
       "      <td>0</td>\n",
       "    </tr>\n",
       "  </tbody>\n",
       "</table>\n",
       "</div>"
      ],
      "text/plain": [
       "     1 Number of sexual partners First sexual intercourse Num of pregnancies  \\\n",
       "0   18                         4                       15                  1   \n",
       "1   15                         1                       14                  1   \n",
       "2   34                         1                        ?                  1   \n",
       "3   52                         5                       16                  4   \n",
       "4   46                         3                       21                  4   \n",
       "5   42                         3                       23                  2   \n",
       "6   51                         3                       17                  6   \n",
       "7   26                         1                       26                  3   \n",
       "8   45                         1                       20                  5   \n",
       "9   44                         3                       15                  ?   \n",
       "10  44                         3                       26                  4   \n",
       "11  27                         1                       17                  3   \n",
       "12  45                         4                       14                  6   \n",
       "13  44                         2                       25                  2   \n",
       "14  43                         2                       18                  5   \n",
       "15  40                         3                       18                  2   \n",
       "16  41                         4                       21                  3   \n",
       "17  43                         3                       15                  8   \n",
       "18  42                         2                       20                  ?   \n",
       "19  40                         2                       27                  ?   \n",
       "\n",
       "   Smokes Smokes (years) Smokes (packs/year) Hormonal Contraceptives  \\\n",
       "0       0              0                   0                       0   \n",
       "1       0              0                   0                       0   \n",
       "2       0              0                   0                       0   \n",
       "3       1             37                  37                       1   \n",
       "4       0              0                   0                       1   \n",
       "5       0              0                   0                       0   \n",
       "6       1             34                 3.4                       0   \n",
       "7       0              0                   0                       1   \n",
       "8       0              0                   0                       0   \n",
       "9       1    1.266972909                 2.8                       0   \n",
       "10      0              0                   0                       1   \n",
       "11      0              0                   0                       1   \n",
       "12      0              0                   0                       1   \n",
       "13      0              0                   0                       1   \n",
       "14      0              0                   0                       0   \n",
       "15      0              0                   0                       1   \n",
       "16      0              0                   0                       1   \n",
       "17      0              0                   0                       1   \n",
       "18      0              0                   0                       1   \n",
       "19      0              0                   0                       0   \n",
       "\n",
       "   Hormonal Contraceptives (years) IUD IUD (years) STDs STDs (number)  \\\n",
       "0                                0   0           0    0             0   \n",
       "1                                0   0           0    0             0   \n",
       "2                                0   0           0    0             0   \n",
       "3                                3   0           0    0             0   \n",
       "4                               15   0           0    0             0   \n",
       "5                                0   0           0    0             0   \n",
       "6                                0   1           7    0             0   \n",
       "7                                2   1           7    0             0   \n",
       "8                                0   0           0    0             0   \n",
       "9                                0   ?           ?    0             0   \n",
       "10                               2   0           0    0             0   \n",
       "11                               8   0           0    0             0   \n",
       "12                              10   1           5    0             0   \n",
       "13                               5   0           0    0             0   \n",
       "14                               0   1           8    0             0   \n",
       "15                              15   0           0    0             0   \n",
       "16                            0.25   0           0    0             0   \n",
       "17                               3   0           0    0             0   \n",
       "18                               7   1           6    1             2   \n",
       "19                               0   1           1    0             0   \n",
       "\n",
       "   STDs:condylomatosis STDs:cervical condylomatosis  \\\n",
       "0                    0                            0   \n",
       "1                    0                            0   \n",
       "2                    0                            0   \n",
       "3                    0                            0   \n",
       "4                    0                            0   \n",
       "5                    0                            0   \n",
       "6                    0                            0   \n",
       "7                    0                            0   \n",
       "8                    0                            0   \n",
       "9                    0                            0   \n",
       "10                   0                            0   \n",
       "11                   0                            0   \n",
       "12                   0                            0   \n",
       "13                   0                            0   \n",
       "14                   0                            0   \n",
       "15                   0                            0   \n",
       "16                   0                            0   \n",
       "17                   0                            0   \n",
       "18                   1                            0   \n",
       "19                   0                            0   \n",
       "\n",
       "   STDs:vaginal condylomatosis STDs:vulvo-perineal condylomatosis  \\\n",
       "0                            0                                  0   \n",
       "1                            0                                  0   \n",
       "2                            0                                  0   \n",
       "3                            0                                  0   \n",
       "4                            0                                  0   \n",
       "5                            0                                  0   \n",
       "6                            0                                  0   \n",
       "7                            0                                  0   \n",
       "8                            0                                  0   \n",
       "9                            0                                  0   \n",
       "10                           0                                  0   \n",
       "11                           0                                  0   \n",
       "12                           0                                  0   \n",
       "13                           0                                  0   \n",
       "14                           0                                  0   \n",
       "15                           0                                  0   \n",
       "16                           0                                  0   \n",
       "17                           0                                  0   \n",
       "18                           0                                  1   \n",
       "19                           0                                  0   \n",
       "\n",
       "   STDs:syphilis STDs:pelvic inflammatory disease STDs:genital herpes  \\\n",
       "0              0                                0                   0   \n",
       "1              0                                0                   0   \n",
       "2              0                                0                   0   \n",
       "3              0                                0                   0   \n",
       "4              0                                0                   0   \n",
       "5              0                                0                   0   \n",
       "6              0                                0                   0   \n",
       "7              0                                0                   0   \n",
       "8              0                                0                   0   \n",
       "9              0                                0                   0   \n",
       "10             0                                0                   0   \n",
       "11             0                                0                   0   \n",
       "12             0                                0                   0   \n",
       "13             0                                0                   0   \n",
       "14             0                                0                   0   \n",
       "15             0                                0                   0   \n",
       "16             0                                0                   0   \n",
       "17             0                                0                   0   \n",
       "18             0                                0                   0   \n",
       "19             0                                0                   0   \n",
       "\n",
       "   STDs:molluscum contagiosum STDs:AIDS STDs:HIV STDs:Hepatitis B STDs:HPV  \\\n",
       "0                           0         0        0                0        0   \n",
       "1                           0         0        0                0        0   \n",
       "2                           0         0        0                0        0   \n",
       "3                           0         0        0                0        0   \n",
       "4                           0         0        0                0        0   \n",
       "5                           0         0        0                0        0   \n",
       "6                           0         0        0                0        0   \n",
       "7                           0         0        0                0        0   \n",
       "8                           0         0        0                0        0   \n",
       "9                           0         0        0                0        0   \n",
       "10                          0         0        0                0        0   \n",
       "11                          0         0        0                0        0   \n",
       "12                          0         0        0                0        0   \n",
       "13                          0         0        0                0        0   \n",
       "14                          0         0        0                0        0   \n",
       "15                          0         0        0                0        0   \n",
       "16                          0         0        0                0        0   \n",
       "17                          0         0        0                0        0   \n",
       "18                          0         0        0                0        0   \n",
       "19                          0         0        0                0        0   \n",
       "\n",
       "    STDs: Number of diagnosis STDs: Time since first diagnosis  \\\n",
       "0                           0                                ?   \n",
       "1                           0                                ?   \n",
       "2                           0                                ?   \n",
       "3                           0                                ?   \n",
       "4                           0                                ?   \n",
       "5                           0                                ?   \n",
       "6                           0                                ?   \n",
       "7                           0                                ?   \n",
       "8                           0                                ?   \n",
       "9                           0                                ?   \n",
       "10                          0                                ?   \n",
       "11                          0                                ?   \n",
       "12                          0                                ?   \n",
       "13                          0                                ?   \n",
       "14                          0                                ?   \n",
       "15                          0                                ?   \n",
       "16                          0                                ?   \n",
       "17                          0                                ?   \n",
       "18                          0                                ?   \n",
       "19                          0                                ?   \n",
       "\n",
       "   STDs: Time since last diagnosis  Dx:Cancer  Dx:CIN  Dx:HPV  Dx  Hinselmann  \\\n",
       "0                                ?          0       0       0   0           0   \n",
       "1                                ?          0       0       0   0           0   \n",
       "2                                ?          0       0       0   0           0   \n",
       "3                                ?          1       0       1   0           0   \n",
       "4                                ?          0       0       0   0           0   \n",
       "5                                ?          0       0       0   0           0   \n",
       "6                                ?          0       0       0   0           1   \n",
       "7                                ?          0       0       0   0           0   \n",
       "8                                ?          1       0       1   1           0   \n",
       "9                                ?          0       0       0   0           0   \n",
       "10                               ?          0       0       0   0           0   \n",
       "11                               ?          0       0       0   0           0   \n",
       "12                               ?          0       0       0   0           0   \n",
       "13                               ?          0       0       0   0           0   \n",
       "14                               ?          0       0       0   0           0   \n",
       "15                               ?          0       0       0   0           0   \n",
       "16                               ?          0       0       0   0           0   \n",
       "17                               ?          0       0       0   0           0   \n",
       "18                               ?          0       0       0   0           0   \n",
       "19                               ?          0       0       0   0           0   \n",
       "\n",
       "    Schiller  Citology  Biopsy  \n",
       "0          0         0       0  \n",
       "1          0         0       0  \n",
       "2          0         0       0  \n",
       "3          0         0       0  \n",
       "4          0         0       0  \n",
       "5          0         0       1  \n",
       "6          1         0       0  \n",
       "7          0         0       0  \n",
       "8          0         0       0  \n",
       "9          0         0       0  \n",
       "10         0         0       0  \n",
       "11         0         0       0  \n",
       "12         0         0       0  \n",
       "13         0         0       0  \n",
       "14         0         0       0  \n",
       "15         0         0       0  \n",
       "16         0         0       0  \n",
       "17         0         0       0  \n",
       "18         0         0       0  \n",
       "19         0         0       0  "
      ]
     },
     "execution_count": 5,
     "metadata": {},
     "output_type": "execute_result"
    }
   ],
   "source": [
    "df.head(20)"
   ]
  },
  {
   "cell_type": "code",
   "execution_count": 6,
   "metadata": {},
   "outputs": [
    {
     "data": {
      "text/plain": [
       "Index(['1', 'Number of sexual partners', 'First sexual intercourse',\n",
       "       'Num of pregnancies', 'Smokes', 'Smokes (years)', 'Smokes (packs/year)',\n",
       "       'Hormonal Contraceptives', 'Hormonal Contraceptives (years)', 'IUD',\n",
       "       'IUD (years)', 'STDs', 'STDs (number)', 'STDs:condylomatosis',\n",
       "       'STDs:cervical condylomatosis', 'STDs:vaginal condylomatosis',\n",
       "       'STDs:vulvo-perineal condylomatosis', 'STDs:syphilis',\n",
       "       'STDs:pelvic inflammatory disease', 'STDs:genital herpes',\n",
       "       'STDs:molluscum contagiosum', 'STDs:AIDS', 'STDs:HIV',\n",
       "       'STDs:Hepatitis B', 'STDs:HPV', 'STDs: Number of diagnosis',\n",
       "       'STDs: Time since first diagnosis', 'STDs: Time since last diagnosis',\n",
       "       'Dx:Cancer', 'Dx:CIN', 'Dx:HPV', 'Dx', 'Hinselmann', 'Schiller',\n",
       "       'Citology', 'Biopsy'],\n",
       "      dtype='object')"
      ]
     },
     "execution_count": 6,
     "metadata": {},
     "output_type": "execute_result"
    }
   ],
   "source": [
    "df.columns"
   ]
  },
  {
   "cell_type": "code",
   "execution_count": 7,
   "metadata": {},
   "outputs": [],
   "source": [
    "df.columns=['Age', 'No_of_sex_partner', 'First_sexual_intercourse',\\\n",
    "                          'No_pregnancies','Smokes',  'Smokes_yrs',  'Smokes_packs_yr',  'Hormonal_Contraceptives',\\\n",
    "                          'Hormonal_Contraceptives_years','IUD', 'IUD_years', 'STDs', 'STDs_number', 'STDs_condylomatosis',\\\n",
    "                          'STDs_cervical_condylomatosis', 'STDs_vaginal_condylomatosis', 'STDs_vulvo_perineal_condylomatosis',\\\n",
    "                          'STDs_syphilis', 'STDs_pelvic_inflammatory_disease', 'STDs_genital_herpes', 'STDs_molluscum_contagiosum',\\\n",
    "                          'STDs_AIDS', 'STDs_HIV', 'STDs_Hepatitis_B', 'STDs_HPV', 'STDs_No_of_diagnosis', 'STD_Time_since_first_diagnosis',\\\n",
    "                          'STDs_Time_since_last_diagnosis', 'Dx_Cancer', 'Dx_CIN', 'Dx_HPV', 'Dx', 'Hinselmann','Schiller' ,'Citology', 'Biopsy']"
   ]
  },
  {
   "cell_type": "code",
   "execution_count": 8,
   "metadata": {},
   "outputs": [
    {
     "name": "stdout",
     "output_type": "stream",
     "text": [
      "<class 'pandas.core.frame.DataFrame'>\n",
      "RangeIndex: 858 entries, 0 to 857\n",
      "Data columns (total 36 columns):\n",
      "Age                                   858 non-null int64\n",
      "No_of_sex_partner                     858 non-null object\n",
      "First_sexual_intercourse              858 non-null object\n",
      "No_pregnancies                        858 non-null object\n",
      "Smokes                                858 non-null object\n",
      "Smokes_yrs                            858 non-null object\n",
      "Smokes_packs_yr                       858 non-null object\n",
      "Hormonal_Contraceptives               858 non-null object\n",
      "Hormonal_Contraceptives_years         858 non-null object\n",
      "IUD                                   858 non-null object\n",
      "IUD_years                             858 non-null object\n",
      "STDs                                  858 non-null object\n",
      "STDs_number                           858 non-null object\n",
      "STDs_condylomatosis                   858 non-null object\n",
      "STDs_cervical_condylomatosis          858 non-null object\n",
      "STDs_vaginal_condylomatosis           858 non-null object\n",
      "STDs_vulvo_perineal_condylomatosis    858 non-null object\n",
      "STDs_syphilis                         858 non-null object\n",
      "STDs_pelvic_inflammatory_disease      858 non-null object\n",
      "STDs_genital_herpes                   858 non-null object\n",
      "STDs_molluscum_contagiosum            858 non-null object\n",
      "STDs_AIDS                             858 non-null object\n",
      "STDs_HIV                              858 non-null object\n",
      "STDs_Hepatitis_B                      858 non-null object\n",
      "STDs_HPV                              858 non-null object\n",
      "STDs_No_of_diagnosis                  858 non-null int64\n",
      "STD_Time_since_first_diagnosis        858 non-null object\n",
      "STDs_Time_since_last_diagnosis        858 non-null object\n",
      "Dx_Cancer                             858 non-null int64\n",
      "Dx_CIN                                858 non-null int64\n",
      "Dx_HPV                                858 non-null int64\n",
      "Dx                                    858 non-null int64\n",
      "Hinselmann                            858 non-null int64\n",
      "Schiller                              858 non-null int64\n",
      "Citology                              858 non-null int64\n",
      "Biopsy                                858 non-null int64\n",
      "dtypes: int64(10), object(26)\n",
      "memory usage: 241.4+ KB\n"
     ]
    }
   ],
   "source": [
    "df.info()"
   ]
  },
  {
   "cell_type": "code",
   "execution_count": 9,
   "metadata": {},
   "outputs": [
    {
     "data": {
      "text/plain": [
       "(858, 36)"
      ]
     },
     "execution_count": 9,
     "metadata": {},
     "output_type": "execute_result"
    }
   ],
   "source": [
    "df.shape"
   ]
  },
  {
   "cell_type": "code",
   "execution_count": 10,
   "metadata": {},
   "outputs": [],
   "source": [
    "## replace ? with NaN\n",
    "df = df.replace('?', np.NaN)"
   ]
  },
  {
   "cell_type": "code",
   "execution_count": 11,
   "metadata": {},
   "outputs": [
    {
     "data": {
      "text/plain": [
       "<matplotlib.axes._subplots.AxesSubplot at 0x1f27f80e588>"
      ]
     },
     "execution_count": 11,
     "metadata": {},
     "output_type": "execute_result"
    },
    {
     "data": {
      "image/png": "[encoded data removed]",
      "text/plain": [
       "<Figure size 720x720 with 1 Axes>"
      ]
     },
     "metadata": {
      "needs_background": "light"
     },
     "output_type": "display_data"
    }
   ],
   "source": [
    "plt.figure(figsize=(10,10))\n",
    "np.round(df.isnull().sum()/df.shape[0]*100).sort_values().plot(kind='bar')"
   ]
  },
  {
   "cell_type": "code",
   "execution_count": 12,
   "metadata": {},
   "outputs": [],
   "source": [
    "df=df.drop(['STD_Time_since_first_diagnosis','STDs_Time_since_last_diagnosis'],axis=1)\n",
    "df=df.drop(df.index[df.Smokes.isnull()] | df.index[df.First_sexual_intercourse.isnull()])"
   ]
  },
  {
   "cell_type": "code",
   "execution_count": 13,
   "metadata": {},
   "outputs": [],
   "source": [
    "x_features=list(df.columns)\n",
    "x_features.remove('Biopsy')"
   ]
  },
  {
   "cell_type": "code",
   "execution_count": 14,
   "metadata": {},
   "outputs": [
    {
     "data": {
      "text/plain": [
       "['Smokes',\n",
       " 'Hormonal_Contraceptives',\n",
       " 'IUD',\n",
       " 'STDs',\n",
       " 'STDs_condylomatosis',\n",
       " 'STDs_cervical_condylomatosis',\n",
       " 'STDs_vaginal_condylomatosis',\n",
       " 'STDs_vulvo_perineal_condylomatosis',\n",
       " 'STDs_syphilis',\n",
       " 'STDs_pelvic_inflammatory_disease',\n",
       " 'STDs_genital_herpes',\n",
       " 'STDs_molluscum_contagiosum',\n",
       " 'STDs_AIDS',\n",
       " 'STDs_HIV',\n",
       " 'STDs_Hepatitis_B',\n",
       " 'STDs_HPV',\n",
       " 'Dx_Cancer',\n",
       " 'Dx_CIN',\n",
       " 'Dx_HPV',\n",
       " 'Dx']"
      ]
     },
     "execution_count": 14,
     "metadata": {},
     "output_type": "execute_result"
    }
   ],
   "source": [
    "x_features_categorical=[\n",
    " 'Smokes','Hormonal_Contraceptives','IUD','STDs','STDs_condylomatosis','STDs_cervical_condylomatosis','STDs_vaginal_condylomatosis','STDs_vulvo_perineal_condylomatosis','STDs_syphilis','STDs_pelvic_inflammatory_disease','STDs_genital_herpes','STDs_molluscum_contagiosum','STDs_AIDS','STDs_HIV','STDs_Hepatitis_B','STDs_HPV','Dx_Cancer','Dx_CIN','Dx_HPV','Dx']\n",
    "x_features_categorical"
   ]
  },
  {
   "cell_type": "code",
   "execution_count": 15,
   "metadata": {},
   "outputs": [
    {
     "data": {
      "text/plain": [
       "['Age',\n",
       " 'No_of_sex_partner',\n",
       " 'First_sexual_intercourse',\n",
       " 'No_pregnancies',\n",
       " 'Smokes_yrs',\n",
       " 'Smokes_packs_yr',\n",
       " 'Hormonal_Contraceptives_years',\n",
       " 'IUD_years',\n",
       " 'STDs_number',\n",
       " 'STDs_No_of_diagnosis',\n",
       " 'Hinselmann',\n",
       " 'Schiller',\n",
       " 'Citology']"
      ]
     },
     "execution_count": 15,
     "metadata": {},
     "output_type": "execute_result"
    }
   ],
   "source": [
    "x_features_numerical=[i for i in x_features if i not in x_features_categorical]\n",
    "x_features_numerical"
   ]
  },
  {
   "cell_type": "code",
   "execution_count": 16,
   "metadata": {},
   "outputs": [],
   "source": [
    "df_iud=df.copy()\n",
    "\n",
    "x_features_categorical.remove('IUD')\n",
    "for i in x_features_categorical:\n",
    "    df_iud[i]=df_iud[i].fillna(df_iud[i].mode()[0])\n",
    "for i in x_features_numerical:\n",
    "    df_iud[i]=df_iud[i].fillna(df_iud[i].median())\n",
    "    \n",
    "df_iud=df_iud.astype('float')\n",
    "df_iud[x_features_categorical]=df_iud[x_features_categorical].replace(0,'no')\n",
    "df_iud[x_features_categorical]=df_iud[x_features_categorical].replace(1,'yes')\n",
    "df_iud=pd.get_dummies(df_iud)\n",
    "\n",
    "train_iud=df_iud[df_iud.IUD.isnull()==False]\n",
    "test_iud=df_iud[df_iud.IUD.isnull()]\n",
    "\n",
    "train_iud_x=train_iud.drop('IUD',axis=1)\n",
    "train_iud_y=train_iud['IUD']\n",
    "\n",
    "test_iud_x=test_iud.drop('IUD',axis=1)\n",
    "test_iud_y=test_iud['IUD']\n",
    "\n",
    "dt=DecisionTreeClassifier()\n",
    "iud_model=dt.fit(train_iud_x,train_iud_y)\n",
    "test_iud['IUD']=iud_model.predict(test_iud_x)\n",
    "\n",
    "iud_complete=pd.concat([train_iud,test_iud],axis=0)\n",
    "\n",
    "df_impute=df.copy()\n",
    "df_impute['IUD']=iud_complete['IUD'].sort_index()"
   ]
  },
  {
   "cell_type": "code",
   "execution_count": 17,
   "metadata": {},
   "outputs": [],
   "source": [
    "df_hor=df_impute.drop(['Biopsy'],axis=1)\n",
    "\n",
    "x_features_categorical.remove('Hormonal_Contraceptives')\n",
    "for i in x_features_categorical:\n",
    "    df_hor[i]=df_hor[i].fillna(df_hor[i].mode()[0])\n",
    "for i in x_features_numerical:\n",
    "    df_hor[i]=df_hor[i].fillna(df_hor[i].median())\n",
    "    \n",
    "df_hor=df_hor.astype('float')\n",
    "df_hor[x_features_categorical]=df_hor[x_features_categorical].replace(0,'no')\n",
    "df_hor[x_features_categorical]=df_hor[x_features_categorical].replace(1,'yes')\n",
    "df_hor=pd.get_dummies(df_hor)\n",
    "\n",
    "train_hor=df_hor[df_hor.Hormonal_Contraceptives.isnull()==False]\n",
    "test_hor=df_hor[df_hor.Hormonal_Contraceptives.isnull()]\n",
    "\n",
    "train_hor_x=train_hor.drop('Hormonal_Contraceptives',axis=1)\n",
    "train_hor_y=train_hor['Hormonal_Contraceptives']\n",
    "\n",
    "test_hor_x=test_hor.drop('Hormonal_Contraceptives',axis=1)\n",
    "test_hor_y=test_hor['Hormonal_Contraceptives']\n",
    "\n",
    "dt=DecisionTreeClassifier()\n",
    "hor_model=dt.fit(train_hor_x,train_hor_y)\n",
    "test_hor['Hormonal_Contraceptives']=hor_model.predict(test_hor_x)\n",
    "\n",
    "hor_complete=pd.concat([train_hor,test_hor],axis=0)\n",
    "\n",
    "df_impute['Hormonal_Contraceptives']=hor_complete['Hormonal_Contraceptives'].sort_index()"
   ]
  },
  {
   "cell_type": "code",
   "execution_count": 18,
   "metadata": {},
   "outputs": [],
   "source": [
    "df_hor_y=df_impute.drop(['Biopsy'],axis=1)\n",
    "\n",
    "x_features_numerical.remove('Hormonal_Contraceptives_years')\n",
    "for i in x_features_categorical:\n",
    "    df_hor_y[i]=df_hor_y[i].fillna(df_hor_y[i].mode()[0])\n",
    "\n",
    "for i in x_features_numerical:\n",
    "    df_hor_y[i]=df_hor_y[i].fillna(df_hor_y[i].median())\n",
    "\n",
    "df_hor_y=df_hor_y.astype('float')\n",
    "df_hor_y[x_features_categorical]=df_hor_y[x_features_categorical].replace(0,'no')\n",
    "df_hor_y[x_features_categorical]=df_hor_y[x_features_categorical].replace(1,'yes')\n",
    "df_hor_y=pd.get_dummies(df_hor_y)\n",
    "\n",
    "train_hor_yrs=df_hor_y[df_hor_y.Hormonal_Contraceptives_years.isnull()==False]\n",
    "test_hor_yrs=df_hor_y[df_hor_y.Hormonal_Contraceptives_years.isnull()]\n",
    "\n",
    "train_hor_yrs_x=train_hor_yrs.drop('Hormonal_Contraceptives_years',axis=1)\n",
    "train_hor_yrs_y=train_hor_yrs['Hormonal_Contraceptives_years']\n",
    "\n",
    "test_hor_yrs_x=test_hor_yrs.drop('Hormonal_Contraceptives_years',axis=1)\n",
    "test_hor_yrs_y=test_hor_yrs['Hormonal_Contraceptives_years']\n",
    "\n",
    "dt=DecisionTreeRegressor()\n",
    "hor_yrs_model=dt.fit(train_hor_yrs_x,train_hor_yrs_y)\n",
    "test_hor_yrs['Hormonal_Contraceptives_years']=hor_yrs_model.predict(test_hor_yrs_x)\n",
    "\n",
    "hor_yrs_complete=pd.concat([train_hor_yrs,test_hor_yrs],axis=0)\n",
    "\n",
    "df_impute['Hormonal_Contraceptives_years']=hor_yrs_complete['Hormonal_Contraceptives_years'].sort_index()"
   ]
  },
  {
   "cell_type": "code",
   "execution_count": 19,
   "metadata": {},
   "outputs": [],
   "source": [
    "df_std=df_impute.drop(['Biopsy'],axis=1)\n",
    "\n",
    "x_features_categorical.remove('STDs')\n",
    "for i in x_features_categorical:\n",
    "    df_std[i]=df_std[i].fillna(df_std[i].mode()[0])\n",
    "for i in x_features_numerical:\n",
    "    df_std[i]=df_std[i].fillna(df_std[i].median())\n",
    "    \n",
    "df_std=df_std.astype('float')\n",
    "df_std[x_features_categorical]=df_std[x_features_categorical].replace(0,'no')\n",
    "df_std[x_features_categorical]=df_std[x_features_categorical].replace(1,'yes')\n",
    "df_std=pd.get_dummies(df_std)\n",
    "\n",
    "train_std=df_std[df_std.STDs.isnull()==False]\n",
    "test_std=df_std[df_std.STDs.isnull()]\n",
    "\n",
    "train_std_x=train_std.drop('STDs',axis=1)\n",
    "train_std_y=train_std['STDs']\n",
    "\n",
    "test_std_x=test_std.drop('STDs',axis=1)\n",
    "test_std_y=test_std['STDs']\n",
    "\n",
    "dt=DecisionTreeClassifier()\n",
    "std_model=dt.fit(train_std_x,train_std_y)\n",
    "test_std['STDs']=std_model.predict(test_std_x)\n",
    "\n",
    "std_complete=pd.concat([train_std,test_std],axis=0)\n",
    "\n",
    "df_impute['STDs']=std_complete['STDs'].sort_index()"
   ]
  },
  {
   "cell_type": "code",
   "execution_count": 20,
   "metadata": {},
   "outputs": [],
   "source": [
    "df_std_num=df_impute.drop(['Biopsy'],axis=1)\n",
    "\n",
    "x_features_numerical.remove('STDs_number')\n",
    "for i in x_features_categorical:\n",
    "    df_std_num[i]=df_std_num[i].fillna(df_std_num[i].mode()[0])\n",
    "for i in x_features_numerical:\n",
    "    df_std_num[i]=df_std_num[i].fillna(df_std_num[i].median())\n",
    "\n",
    "df_std_num=df_std_num.astype('float')\n",
    "df_std_num[x_features_categorical]=df_std_num[x_features_categorical].replace(0,'no')\n",
    "df_std_num[x_features_categorical]=df_std_num[x_features_categorical].replace(1,'yes')\n",
    "df_std_num=pd.get_dummies(df_std_num)\n",
    "\n",
    "train_std_num=df_std_num[df_std_num.STDs_number.isnull()==False]\n",
    "test_std_num=df_std_num[df_std_num.STDs_number.isnull()]\n",
    "\n",
    "train_std_num_x=train_std_num.drop('STDs_number',axis=1)\n",
    "train_std_num_y=train_std_num['STDs_number']\n",
    "\n",
    "test_std_num_x=test_std_num.drop('STDs_number',axis=1)\n",
    "test_std_num_y=test_std_num['STDs_number']\n",
    "\n",
    "dt=DecisionTreeRegressor()\n",
    "std_model_num=dt.fit(train_std_num_x,train_std_num_y)\n",
    "test_std_num['STDs_number']=std_model_num.predict(test_std_num_x)\n",
    "\n",
    "std_num_complete=pd.concat([train_std_num,test_std_num],axis=0)\n",
    "\n",
    "df_impute['STDs_number']=std_num_complete['STDs_number'].sort_index()"
   ]
  },
  {
   "cell_type": "code",
   "execution_count": 21,
   "metadata": {},
   "outputs": [],
   "source": [
    "df_std_con=df_impute.drop(['Biopsy'],axis=1)\n",
    "\n",
    "x_features_categorical.remove('STDs_condylomatosis')\n",
    "for i in x_features_categorical:\n",
    "    df_std_con[i]=df_std_con[i].fillna(df_std_con[i].mode()[0])\n",
    "for i in x_features_numerical:\n",
    "    df_std_con[i]=df_std_con[i].fillna(df_std_con[i].median())\n",
    "\n",
    "df_std_con=df_std_con.astype('float')\n",
    "df_std_con[x_features_categorical]=df_std_con[x_features_categorical].replace(0,'no')\n",
    "df_std_con[x_features_categorical]=df_std_con[x_features_categorical].replace(1,'yes')\n",
    "df_std_con=pd.get_dummies(df_std_con)\n",
    "\n",
    "train_std_con=df_std_con[df_std_con.STDs_condylomatosis.isnull()==False]\n",
    "test_std_con=df_std_con[df_std_con.STDs_condylomatosis.isnull()]\n",
    "\n",
    "train_std_con_x=train_std_con.drop('STDs_condylomatosis',axis=1)\n",
    "train_std_con_y=train_std_con['STDs_condylomatosis']\n",
    "\n",
    "test_std_con_x=test_std_con.drop('STDs_condylomatosis',axis=1)\n",
    "test_std_con_y=test_std_con['STDs_condylomatosis']\n",
    "\n",
    "dt=DecisionTreeClassifier()\n",
    "std_model_con=dt.fit(train_std_con_x,train_std_con_y)\n",
    "test_std_con['STDs_condylomatosis']=std_model_con.predict(test_std_con_x)\n",
    "\n",
    "std_con_complete=pd.concat([train_std_con,test_std_con],axis=0)\n",
    "\n",
    "df_impute['STDs_condylomatosis']=std_con_complete['STDs_condylomatosis'].sort_index()"
   ]
  },
  {
   "cell_type": "code",
   "execution_count": 22,
   "metadata": {},
   "outputs": [],
   "source": [
    "df_std_cerv=df_impute.drop(['Biopsy'],axis=1)\n",
    "\n",
    "x_features_categorical.remove('STDs_cervical_condylomatosis')\n",
    "for i in x_features_categorical:\n",
    "    df_std_cerv[i]=df_std_cerv[i].fillna(df_std_cerv[i].mode()[0])\n",
    "for i in x_features_numerical:\n",
    "    df_std_cerv[i]=df_std_cerv[i].fillna(df_std_cerv[i].median())\n",
    "\n",
    "df_std_cerv=df_std_cerv.astype('float')\n",
    "df_std_cerv[x_features_categorical]=df_std_cerv[x_features_categorical].replace(0,'no')\n",
    "df_std_cerv[x_features_categorical]=df_std_cerv[x_features_categorical].replace(1,'yes')\n",
    "df_std_cerv=pd.get_dummies(df_std_cerv)\n",
    "\n",
    "train_std_cerv=df_std_cerv[df_std_cerv.STDs_cervical_condylomatosis.isnull()==False]\n",
    "test_std_cerv=df_std_cerv[df_std_cerv.STDs_cervical_condylomatosis.isnull()]\n",
    "\n",
    "train_std_cerv_x=train_std_cerv.drop('STDs_cervical_condylomatosis',axis=1)\n",
    "train_std_cerv_y=train_std_cerv['STDs_cervical_condylomatosis']\n",
    "\n",
    "test_std_cerv_x=test_std_cerv.drop('STDs_cervical_condylomatosis',axis=1)\n",
    "test_std_cerv_y=test_std_cerv['STDs_cervical_condylomatosis']\n",
    "\n",
    "dt=DecisionTreeClassifier()\n",
    "std_model_cerv=dt.fit(train_std_cerv_x,train_std_cerv_y)\n",
    "test_std_cerv['STDs_cervical_condylomatosis']=std_model_cerv.predict(test_std_cerv_x)\n",
    "\n",
    "std_cerv_complete=pd.concat([train_std_cerv,test_std_cerv],axis=0)\n",
    "\n",
    "df_impute['STDs_cervical_condylomatosis']=std_cerv_complete['STDs_cervical_condylomatosis'].sort_index()"
   ]
  },
  {
   "cell_type": "code",
   "execution_count": 23,
   "metadata": {},
   "outputs": [],
   "source": [
    "df_std_vagi=df_impute.drop(['Biopsy'],axis=1)\n",
    "\n",
    "x_features_categorical.remove('STDs_vaginal_condylomatosis')\n",
    "for i in x_features_categorical:\n",
    "    df_std_vagi[i]=df_std_vagi[i].fillna(df_std_vagi[i].mode()[0])\n",
    "for i in x_features_numerical:\n",
    "    df_std_vagi[i]=df_std_vagi[i].fillna(df_std_vagi[i].median())\n",
    "\n",
    "df_std_vagi=df_std_vagi.astype('float')\n",
    "df_std_vagi[x_features_categorical]=df_std_vagi[x_features_categorical].replace(0,'no')\n",
    "df_std_vagi[x_features_categorical]=df_std_vagi[x_features_categorical].replace(1,'yes')\n",
    "df_std_vagi=pd.get_dummies(df_std_vagi)\n",
    "\n",
    "train_std_vagi=df_std_vagi[df_std_vagi.STDs_vaginal_condylomatosis.isnull()==False]\n",
    "test_std_vagi=df_std_vagi[df_std_vagi.STDs_vaginal_condylomatosis.isnull()]\n",
    "\n",
    "train_std_vagi_x=train_std_vagi.drop('STDs_vaginal_condylomatosis',axis=1)\n",
    "train_std_vagi_y=train_std_vagi['STDs_vaginal_condylomatosis']\n",
    "\n",
    "test_std_vagi_x=test_std_vagi.drop('STDs_vaginal_condylomatosis',axis=1)\n",
    "test_std_vagi_y=test_std_vagi['STDs_vaginal_condylomatosis']\n",
    "\n",
    "dt=DecisionTreeClassifier()\n",
    "std_model_vagi=dt.fit(train_std_vagi_x,train_std_vagi_y)\n",
    "test_std_vagi['STDs_vaginal_condylomatosis']=std_model_vagi.predict(test_std_vagi_x)\n",
    "\n",
    "std_vagi_complete=pd.concat([train_std_vagi,test_std_vagi],axis=0)\n",
    "\n",
    "df_impute['STDs_vaginal_condylomatosis']=std_vagi_complete['STDs_vaginal_condylomatosis'].sort_index()"
   ]
  },
  {
   "cell_type": "code",
   "execution_count": 24,
   "metadata": {},
   "outputs": [],
   "source": [
    "df_std_peri=df_impute.drop(['Biopsy'],axis=1)\n",
    "\n",
    "x_features_categorical.remove('STDs_vulvo_perineal_condylomatosis')\n",
    "for i in x_features_categorical:\n",
    "    df_std_peri[i]=df_std_peri[i].fillna(df_std_peri[i].mode()[0])\n",
    "for i in x_features_numerical:\n",
    "    df_std_peri[i]=df_std_peri[i].fillna(df_std_peri[i].median())\n",
    "\n",
    "df_std_peri=df_std_peri.astype('float')\n",
    "df_std_peri[x_features_categorical]=df_std_peri[x_features_categorical].replace(0,'no')\n",
    "df_std_peri[x_features_categorical]=df_std_peri[x_features_categorical].replace(1,'yes')\n",
    "df_std_peri=pd.get_dummies(df_std_peri)\n",
    "\n",
    "train_std_peri=df_std_peri[df_std_peri.STDs_vulvo_perineal_condylomatosis.isnull()==False]\n",
    "test_std_peri=df_std_peri[df_std_peri.STDs_vulvo_perineal_condylomatosis.isnull()]\n",
    "\n",
    "train_std_peri_x=train_std_peri.drop('STDs_vulvo_perineal_condylomatosis',axis=1)\n",
    "train_std_peri_y=train_std_peri['STDs_vulvo_perineal_condylomatosis']\n",
    "\n",
    "test_std_peri_x=test_std_peri.drop('STDs_vulvo_perineal_condylomatosis',axis=1)\n",
    "test_std_peri_y=test_std_peri['STDs_vulvo_perineal_condylomatosis']\n",
    "\n",
    "dt=DecisionTreeClassifier()\n",
    "std_model_peri=dt.fit(train_std_peri_x,train_std_peri_y)\n",
    "test_std_peri['STDs_vulvo_perineal_condylomatosis']=std_model_peri.predict(test_std_peri_x)\n",
    "\n",
    "std_peri_complete=pd.concat([train_std_peri,test_std_peri],axis=0)\n",
    "\n",
    "df_impute['STDs_vulvo_perineal_condylomatosis']=std_peri_complete['STDs_vulvo_perineal_condylomatosis'].sort_index()"
   ]
  },
  {
   "cell_type": "code",
   "execution_count": 25,
   "metadata": {},
   "outputs": [],
   "source": [
    "df_std_syp=df_impute.drop(['Biopsy'],axis=1)\n",
    "\n",
    "x_features_categorical.remove('STDs_syphilis')\n",
    "for i in x_features_categorical:\n",
    "    df_std_syp[i]=df_std_syp[i].fillna(df_std_syp[i].mode()[0])\n",
    "for i in x_features_numerical:\n",
    "    df_std_syp[i]=df_std_syp[i].fillna(df_std_syp[i].median())\n",
    "\n",
    "df_std_syp=df_std_syp.astype('float')\n",
    "df_std_syp[x_features_categorical]=df_std_syp[x_features_categorical].replace(0,'no')\n",
    "df_std_syp[x_features_categorical]=df_std_syp[x_features_categorical].replace(1,'yes')\n",
    "df_std_syp=pd.get_dummies(df_std_syp)\n",
    "\n",
    "train_std_syp=df_std_syp[df_std_syp.STDs_syphilis.isnull()==False]\n",
    "test_std_syp=df_std_syp[df_std_syp.STDs_syphilis.isnull()]\n",
    "\n",
    "train_std_syp_x=train_std_syp.drop('STDs_syphilis',axis=1)\n",
    "train_std_syp_y=train_std_syp['STDs_syphilis']\n",
    "\n",
    "test_std_syp_x=test_std_syp.drop('STDs_syphilis',axis=1)\n",
    "test_std_syp_y=test_std_syp['STDs_syphilis']\n",
    "\n",
    "dt=DecisionTreeClassifier()\n",
    "std_model_syp=dt.fit(train_std_syp_x,train_std_syp_y)\n",
    "test_std_syp['STDs_syphilis']=std_model_syp.predict(test_std_syp_x)\n",
    "\n",
    "std_syp_complete=pd.concat([train_std_syp,test_std_syp],axis=0)\n",
    "\n",
    "df_impute['STDs_syphilis']=std_syp_complete['STDs_syphilis'].sort_index()"
   ]
  },
  {
   "cell_type": "code",
   "execution_count": 26,
   "metadata": {},
   "outputs": [],
   "source": [
    "df_std_pelv=df_impute.drop(['Biopsy'],axis=1)\n",
    "\n",
    "x_features_categorical.remove('STDs_pelvic_inflammatory_disease')\n",
    "for i in x_features_categorical:\n",
    "    df_std_pelv[i]=df_std_pelv[i].fillna(df_std_pelv[i].mode()[0])\n",
    "\n",
    "for i in x_features_numerical:\n",
    "    df_std_pelv[i]=df_std_pelv[i].fillna(df_std_pelv[i].median())                          \n",
    "\n",
    "df_std_pelv=df_std_pelv.astype('float')\n",
    "df_std_pelv[x_features_categorical]=df_std_pelv[x_features_categorical].replace(0,'no')\n",
    "df_std_pelv[x_features_categorical]=df_std_pelv[x_features_categorical].replace(1,'yes')\n",
    "df_std_pelv=pd.get_dummies(df_std_pelv)\n",
    "\n",
    "train_std_pelv=df_std_pelv[df_std_pelv.STDs_pelvic_inflammatory_disease.isnull()==False]\n",
    "test_std_pelv=df_std_pelv[df_std_pelv.STDs_pelvic_inflammatory_disease.isnull()]\n",
    "\n",
    "train_std_pelv_x=train_std_pelv.drop('STDs_pelvic_inflammatory_disease',axis=1)\n",
    "train_std_pelv_y=train_std_pelv['STDs_pelvic_inflammatory_disease']\n",
    "\n",
    "test_std_pelv_x=test_std_pelv.drop('STDs_pelvic_inflammatory_disease',axis=1)\n",
    "test_std_pelv_y=test_std_pelv['STDs_pelvic_inflammatory_disease']\n",
    "\n",
    "dt=DecisionTreeClassifier()\n",
    "std_model_pelv=dt.fit(train_std_pelv_x,train_std_pelv_y)\n",
    "test_std_pelv['STDs_pelvic_inflammatory_disease']=std_model_pelv.predict(test_std_pelv_x)\n",
    "\n",
    "std_pelv_complete=pd.concat([train_std_pelv,test_std_pelv],axis=0)\n",
    "\n",
    "df_impute['STDs_pelvic_inflammatory_disease']=std_pelv_complete['STDs_pelvic_inflammatory_disease'].sort_index()"
   ]
  },
  {
   "cell_type": "code",
   "execution_count": 27,
   "metadata": {},
   "outputs": [],
   "source": [
    "df_std_geni=df_impute.drop(['Biopsy'],axis=1)\n",
    "\n",
    "x_features_categorical.remove('STDs_genital_herpes')\n",
    "for i in x_features_categorical:\n",
    "    df_std_geni[i]=df_std_geni[i].fillna(df_std_geni[i].mode()[0])\n",
    "for i in x_features_numerical:\n",
    "    df_std_geni[i]=df_std_geni[i].fillna(df_std_geni[i].median())\n",
    "\n",
    "df_std_geni=df_std_geni.astype('float')\n",
    "df_std_geni[x_features_categorical]=df_std_geni[x_features_categorical].replace(0,'no')\n",
    "df_std_geni[x_features_categorical]=df_std_geni[x_features_categorical].replace(1,'yes')\n",
    "df_std_geni=pd.get_dummies(df_std_geni)\n",
    "\n",
    "train_std_geni=df_std_geni[df_std_geni.STDs_genital_herpes.isnull()==False]\n",
    "test_std_geni=df_std_geni[df_std_geni.STDs_genital_herpes.isnull()]\n",
    "\n",
    "train_std_geni_x=train_std_geni.drop('STDs_genital_herpes',axis=1)\n",
    "train_std_geni_y=train_std_geni['STDs_genital_herpes']\n",
    "\n",
    "test_std_geni_x=test_std_geni.drop('STDs_genital_herpes',axis=1)\n",
    "test_std_geni_y=test_std_geni['STDs_genital_herpes']\n",
    "\n",
    "dt=DecisionTreeClassifier()\n",
    "std_model_geni=dt.fit(train_std_geni_x,train_std_geni_y)\n",
    "test_std_geni['STDs_genital_herpes']=std_model_geni.predict(test_std_geni_x)\n",
    "\n",
    "std_geni_complete=pd.concat([train_std_geni,test_std_geni],axis=0)\n",
    "\n",
    "df_impute['STDs_genital_herpes']=std_geni_complete['STDs_genital_herpes'].sort_index()"
   ]
  },
  {
   "cell_type": "code",
   "execution_count": 28,
   "metadata": {},
   "outputs": [],
   "source": [
    "df_std_mollu=df_impute.drop(['Biopsy'],axis=1)\n",
    "\n",
    "x_features_categorical.remove('STDs_molluscum_contagiosum')\n",
    "for i in x_features_categorical:\n",
    "    df_std_mollu[i]=df_std_mollu[i].fillna(df_std_mollu[i].mode()[0])\n",
    "for i in x_features_numerical:\n",
    "    df_std_mollu[i]=df_std_mollu[i].fillna(df_std_mollu[i].median())\n",
    "\n",
    "df_std_mollu=df_std_mollu.astype('float')\n",
    "df_std_mollu[x_features_categorical]=df_std_mollu[x_features_categorical].replace(0,'no')\n",
    "df_std_mollu[x_features_categorical]=df_std_mollu[x_features_categorical].replace(1,'yes')\n",
    "df_std_mollu=pd.get_dummies(df_std_mollu)\n",
    "\n",
    "train_std_mollu=df_std_mollu[df_std_mollu.STDs_molluscum_contagiosum.isnull()==False]\n",
    "test_std_mollu=df_std_mollu[df_std_mollu.STDs_molluscum_contagiosum.isnull()]\n",
    "\n",
    "train_std_mollu_x=train_std_mollu.drop('STDs_molluscum_contagiosum',axis=1)\n",
    "train_std_mollu_y=train_std_mollu['STDs_molluscum_contagiosum']\n",
    "\n",
    "test_std_mollu_x=test_std_mollu.drop('STDs_molluscum_contagiosum',axis=1)\n",
    "test_std_mollu_y=test_std_mollu['STDs_molluscum_contagiosum']\n",
    "\n",
    "dt=DecisionTreeClassifier()\n",
    "std_model_mollu=dt.fit(train_std_mollu_x,train_std_mollu_y)\n",
    "test_std_mollu['STDs_molluscum_contagiosum']=std_model_mollu.predict(test_std_mollu_x)\n",
    "\n",
    "std_mollu_complete=pd.concat([train_std_mollu,test_std_mollu],axis=0)\n",
    "\n",
    "df_impute['STDs_molluscum_contagiosum']=std_mollu_complete['STDs_molluscum_contagiosum'].sort_index()"
   ]
  },
  {
   "cell_type": "code",
   "execution_count": 29,
   "metadata": {},
   "outputs": [],
   "source": [
    "df_std_aids=df_impute.drop(['Biopsy'],axis=1)\n",
    "\n",
    "x_features_categorical.remove('STDs_AIDS')\n",
    "for i in x_features_categorical:\n",
    "    df_std_aids[i]=df_std_aids[i].fillna(df_std_aids[i].mode()[0])\n",
    "for i in x_features_numerical:\n",
    "    df_std_aids[i]=df_std_aids[i].fillna(df_std_aids[i].median())\n",
    "\n",
    "df_std_aids=df_std_aids.astype('float')\n",
    "df_std_aids[x_features_categorical]=df_std_aids[x_features_categorical].replace(0,'no')\n",
    "df_std_aids[x_features_categorical]=df_std_aids[x_features_categorical].replace(1,'yes')\n",
    "df_std_aids=pd.get_dummies(df_std_aids)\n",
    "\n",
    "train_std_aids=df_std_aids[df_std_aids.STDs_AIDS.isnull()==False]\n",
    "test_std_aids=df_std_aids[df_std_aids.STDs_AIDS.isnull()]\n",
    "\n",
    "train_std_aids_x=train_std_aids.drop('STDs_AIDS',axis=1)\n",
    "train_std_aids_y=train_std_aids['STDs_AIDS']\n",
    "\n",
    "test_std_aids_x=test_std_aids.drop('STDs_AIDS',axis=1)\n",
    "test_std_aids_y=test_std_aids['STDs_AIDS']\n",
    "\n",
    "dt=DecisionTreeClassifier()\n",
    "std_model_aids=dt.fit(train_std_aids_x,train_std_aids_y)\n",
    "test_std_aids['STDs_AIDS']=std_model_aids.predict(test_std_aids_x)\n",
    "\n",
    "std_aids_complete=pd.concat([train_std_aids,test_std_aids],axis=0)\n",
    "\n",
    "df_impute['STDs_AIDS']=std_aids_complete['STDs_AIDS'].sort_index()"
   ]
  },
  {
   "cell_type": "code",
   "execution_count": 30,
   "metadata": {},
   "outputs": [],
   "source": [
    "df_std_hiv=df_impute.drop(['Biopsy'],axis=1)\n",
    "\n",
    "x_features_categorical.remove('STDs_HIV')\n",
    "for i in x_features_categorical:\n",
    "    df_std_hiv[i]=df_std_hiv[i].fillna(df_std_hiv[i].mode()[0])\n",
    "for i in x_features_numerical:\n",
    "    df_std_hiv[i]=df_std_hiv[i].fillna(df_std_hiv[i].median())\n",
    "\n",
    "df_std_hiv=df_std_hiv.astype('float')\n",
    "df_std_hiv[x_features_categorical]=df_std_hiv[x_features_categorical].replace(0,'no')\n",
    "df_std_hiv[x_features_categorical]=df_std_hiv[x_features_categorical].replace(1,'yes')\n",
    "df_std_hiv=pd.get_dummies(df_std_hiv)\n",
    "\n",
    "train_std_hiv=df_std_hiv[df_std_hiv.STDs_HIV.isnull()==False]\n",
    "test_std_hiv=df_std_hiv[df_std_hiv.STDs_HIV.isnull()]\n",
    "\n",
    "train_std_hiv_x=train_std_hiv.drop('STDs_HIV',axis=1)\n",
    "train_std_hiv_y=train_std_hiv['STDs_HIV']\n",
    "\n",
    "test_std_hiv_x=test_std_hiv.drop('STDs_HIV',axis=1)\n",
    "test_std_hiv_y=test_std_hiv['STDs_HIV']\n",
    "\n",
    "dt=DecisionTreeClassifier()\n",
    "std_model_hiv=dt.fit(train_std_hiv_x,train_std_hiv_y)\n",
    "test_std_hiv['STDs_HIV']=std_model_hiv.predict(test_std_hiv_x)\n",
    "\n",
    "std_hiv_complete=pd.concat([train_std_hiv,test_std_hiv],axis=0)\n",
    "\n",
    "df_impute['STDs_HIV']=std_hiv_complete['STDs_HIV'].sort_index()"
   ]
  },
  {
   "cell_type": "code",
   "execution_count": 31,
   "metadata": {},
   "outputs": [],
   "source": [
    "df_std_hepa=df_impute.drop(['Biopsy'],axis=1)\n",
    "\n",
    "x_features_categorical.remove('STDs_Hepatitis_B')\n",
    "for i in x_features_categorical:\n",
    "    df_std_hepa[i]=df_std_hepa[i].fillna(df_std_hepa[i].mode()[0])\n",
    "for i in x_features_numerical:\n",
    "    df_std_hepa[i]=df_std_hepa[i].fillna(df_std_hepa[i].median())\n",
    "\n",
    "df_std_hepa=df_std_hepa.astype('float')\n",
    "df_std_hepa[x_features_categorical]=df_std_hepa[x_features_categorical].replace(0,'no')\n",
    "df_std_hepa[x_features_categorical]=df_std_hepa[x_features_categorical].replace(1,'yes')\n",
    "df_std_hepa=pd.get_dummies(df_std_hepa)\n",
    "\n",
    "train_std_hepa=df_std_hepa[df_std_hepa.STDs_Hepatitis_B.isnull()==False]\n",
    "test_std_hepa=df_std_hepa[df_std_hepa.STDs_Hepatitis_B.isnull()]\n",
    "\n",
    "train_std_hepa_x=train_std_hepa.drop(['STDs_Hepatitis_B'],axis=1)\n",
    "train_std_hepa_y=train_std_hepa['STDs_Hepatitis_B']\n",
    "\n",
    "test_std_hepa_x=test_std_hepa.drop(['STDs_Hepatitis_B'],axis=1)\n",
    "test_std_hepa_y=test_std_hepa['STDs_Hepatitis_B']\n",
    "\n",
    "dt=DecisionTreeClassifier()\n",
    "std_model_hepa=dt.fit(train_std_hepa_x,train_std_hepa_y)\n",
    "test_std_hepa['STDs_Hepatitis_B']=std_model_hepa.predict(test_std_hepa_x)\n",
    "\n",
    "std_hepa_complete=pd.concat([train_std_hepa,test_std_hepa],axis=0)\n",
    "\n",
    "df_impute['STDs_Hepatitis_B']=std_hepa_complete['STDs_Hepatitis_B'].sort_index()"
   ]
  },
  {
   "cell_type": "code",
   "execution_count": 32,
   "metadata": {},
   "outputs": [],
   "source": [
    "df_std_hpv=df_impute.drop(['Biopsy'],axis=1)\n",
    "\n",
    "x_features_categorical.remove('STDs_HPV')\n",
    "for i in x_features_categorical:\n",
    "    df_std_hpv[i]=df_std_hpv[i].fillna(df_std_hpv[i].mode()[0])\n",
    "for i in x_features_numerical:\n",
    "    df_std_hpv[i]=df_std_hpv[i].fillna(df_std_hpv[i].median())\n",
    "\n",
    "df_std_hpv=df_std_hpv.astype('float')\n",
    "df_std_hpv[x_features_categorical]=df_std_hpv[x_features_categorical].replace(0,'no')\n",
    "df_std_hpv[x_features_categorical]=df_std_hpv[x_features_categorical].replace(1,'yes')\n",
    "df_std_hpv=pd.get_dummies(df_std_hpv)\n",
    "\n",
    "train_std_hpv=df_std_hpv[df_std_hpv.STDs_HPV.isnull()==False]\n",
    "test_std_hpv=df_std_hpv[df_std_hpv.STDs_HPV.isnull()]\n",
    "\n",
    "train_std_hpv_x=train_std_hpv.drop(['STDs_HPV'],axis=1)\n",
    "train_std_hpv_y=train_std_hpv['STDs_HPV']\n",
    "\n",
    "test_std_hpv_x=test_std_hpv.drop(['STDs_HPV'],axis=1)\n",
    "test_std_hpv_y=test_std_hpv['STDs_HPV']\n",
    "\n",
    "dt=DecisionTreeClassifier()\n",
    "std_model_hpv=dt.fit(train_std_hpv_x,train_std_hpv_y)\n",
    "test_std_hpv['STDs_HPV']=std_model_hpv.predict(test_std_hpv_x)\n",
    "\n",
    "std_hpv_complete=pd.concat([train_std_hpv,test_std_hpv],axis=0)\n",
    "\n",
    "df_impute['STDs_HPV']=std_hpv_complete['STDs_HPV'].sort_index()"
   ]
  },
  {
   "cell_type": "code",
   "execution_count": 33,
   "metadata": {},
   "outputs": [],
   "source": [
    "df_no_preg=df_impute.drop(['Biopsy'],axis=1)\n",
    "\n",
    "x_features_numerical.remove('No_pregnancies')\n",
    "for i in x_features_numerical:\n",
    "    df_no_preg[i]=df_no_preg[i].fillna(df_no_preg[i].median())\n",
    "for i in x_features_categorical:\n",
    "    df_no_preg[i]=df_no_preg[i].fillna(df_no_preg[i].mode()[0])\n",
    "\n",
    "df_no_preg=df_no_preg.astype('float')\n",
    "df_no_preg[x_features_categorical]=df_no_preg[x_features_categorical].replace(0,'no')\n",
    "df_no_preg[x_features_categorical]=df_no_preg[x_features_categorical].replace(1,'yes')\n",
    "df_no_preg=pd.get_dummies(df_no_preg)\n",
    "\n",
    "train_no_preg=df_no_preg[df_no_preg.No_pregnancies.isnull()==False]\n",
    "test_no_preg=df_no_preg[df_no_preg.No_pregnancies.isnull()]\n",
    "\n",
    "train_no_preg_x=train_no_preg.drop(['No_pregnancies'],axis=1)\n",
    "train_no_preg_y=train_no_preg['No_pregnancies']\n",
    "\n",
    "test_no_preg_x=test_no_preg.drop(['No_pregnancies'],axis=1)\n",
    "test_no_preg_y=test_no_preg['No_pregnancies']\n",
    "\n",
    "dt=DecisionTreeRegressor()\n",
    "model_no_preg=dt.fit(train_no_preg_x,train_no_preg_y)\n",
    "test_no_preg['No_pregnancies']=model_no_preg.predict(test_no_preg_x)\n",
    "\n",
    "no_preg_complete=pd.concat([train_no_preg,test_no_preg],axis=0)\n",
    "\n",
    "df_impute['No_pregnancies']=no_preg_complete['No_pregnancies'].sort_index()"
   ]
  },
  {
   "cell_type": "code",
   "execution_count": 34,
   "metadata": {},
   "outputs": [],
   "source": [
    "df_no_sexptnr=df_impute.drop(['Biopsy'],axis=1)\n",
    "\n",
    "x_features_numerical.remove('No_of_sex_partner')\n",
    "for i in x_features_numerical:\n",
    "    df_no_sexptnr[i]=df_no_sexptnr[i].fillna(df_no_sexptnr[i].median())\n",
    "for i in x_features_categorical:\n",
    "    df_no_sexptnr[i]=df_no_sexptnr[i].fillna(df_no_sexptnr[i].mode()[0])\n",
    "\n",
    "df_no_sexptnr=df_no_sexptnr.astype('float')\n",
    "df_no_sexptnr[x_features_categorical]=df_no_sexptnr[x_features_categorical].replace(0,'no')\n",
    "df_no_sexptnr[x_features_categorical]=df_no_sexptnr[x_features_categorical].replace(1,'yes')\n",
    "df_no_sexptnr=pd.get_dummies(df_no_sexptnr)\n",
    "\n",
    "train_no_sexptnr=df_no_sexptnr[df_no_sexptnr.No_of_sex_partner.isnull()==False]\n",
    "test_no_sexptnr=df_no_sexptnr[df_no_sexptnr.No_of_sex_partner.isnull()]\n",
    "\n",
    "train_no_sexptnr_x=train_no_sexptnr.drop(['No_of_sex_partner'],axis=1)\n",
    "train_no_sexptnr_y=train_no_sexptnr['No_of_sex_partner']\n",
    "\n",
    "test_no_sexptnr_x=test_no_sexptnr.drop(['No_of_sex_partner'],axis=1)\n",
    "test_no_sexptnr_y=test_no_sexptnr['No_of_sex_partner']\n",
    "\n",
    "dt=DecisionTreeRegressor()\n",
    "model_no_sexptnr=dt.fit(train_no_sexptnr_x,train_no_sexptnr_y)\n",
    "test_no_sexptnr['No_of_sex_partner']=model_no_sexptnr.predict(test_no_sexptnr_x)\n",
    "\n",
    "no_sexptnr_complete=pd.concat([train_no_sexptnr,test_no_sexptnr],axis=0)\n",
    "\n",
    "df_impute['No_of_sex_partner']=no_sexptnr_complete['No_of_sex_partner'].sort_index()"
   ]
  },
  {
   "cell_type": "code",
   "execution_count": 35,
   "metadata": {},
   "outputs": [
    {
     "data": {
      "text/plain": [
       "Age                                     0\n",
       "No_of_sex_partner                       0\n",
       "First_sexual_intercourse                0\n",
       "No_pregnancies                          0\n",
       "Smokes                                  0\n",
       "Smokes_yrs                              0\n",
       "Smokes_packs_yr                         0\n",
       "Hormonal_Contraceptives                 0\n",
       "Hormonal_Contraceptives_years           0\n",
       "IUD                                     0\n",
       "IUD_years                             112\n",
       "STDs                                    0\n",
       "STDs_number                             0\n",
       "STDs_condylomatosis                     0\n",
       "STDs_cervical_condylomatosis            0\n",
       "STDs_vaginal_condylomatosis             0\n",
       "STDs_vulvo_perineal_condylomatosis      0\n",
       "STDs_syphilis                           0\n",
       "STDs_pelvic_inflammatory_disease        0\n",
       "STDs_genital_herpes                     0\n",
       "STDs_molluscum_contagiosum              0\n",
       "STDs_AIDS                               0\n",
       "STDs_HIV                                0\n",
       "STDs_Hepatitis_B                        0\n",
       "STDs_HPV                                0\n",
       "STDs_No_of_diagnosis                    0\n",
       "Dx_Cancer                               0\n",
       "Dx_CIN                                  0\n",
       "Dx_HPV                                  0\n",
       "Dx                                      0\n",
       "Hinselmann                              0\n",
       "Schiller                                0\n",
       "Citology                                0\n",
       "Biopsy                                  0\n",
       "dtype: int64"
      ]
     },
     "execution_count": 35,
     "metadata": {},
     "output_type": "execute_result"
    }
   ],
   "source": [
    "df_impute.isnull().sum()"
   ]
  },
  {
   "cell_type": "code",
   "execution_count": 36,
   "metadata": {},
   "outputs": [
    {
     "data": {
      "text/html": [
       "<div>\n",
       "<style scoped>\n",
       "    .dataframe tbody tr th:only-of-type {\n",
       "        vertical-align: middle;\n",
       "    }\n",
       "\n",
       "    .dataframe tbody tr th {\n",
       "        vertical-align: top;\n",
       "    }\n",
       "\n",
       "    .dataframe thead th {\n",
       "        text-align: right;\n",
       "    }\n",
       "</style>\n",
       "<table border=\"1\" class=\"dataframe\">\n",
       "  <thead>\n",
       "    <tr style=\"text-align: right;\">\n",
       "      <th></th>\n",
       "      <th>Age</th>\n",
       "      <th>No_pregnancies</th>\n",
       "      <th>No_of_sex_partner</th>\n",
       "      <th>STDs_No_of_diagnosis</th>\n",
       "      <th>Hormonal_Contraceptives_years</th>\n",
       "      <th>STDs_number</th>\n",
       "    </tr>\n",
       "  </thead>\n",
       "  <tbody>\n",
       "    <tr>\n",
       "      <td>count</td>\n",
       "      <td>838.000000</td>\n",
       "      <td>838.000000</td>\n",
       "      <td>838.000000</td>\n",
       "      <td>838.000000</td>\n",
       "      <td>838.000000</td>\n",
       "      <td>838.000000</td>\n",
       "    </tr>\n",
       "    <tr>\n",
       "      <td>mean</td>\n",
       "      <td>26.812649</td>\n",
       "      <td>2.278640</td>\n",
       "      <td>2.513723</td>\n",
       "      <td>0.084726</td>\n",
       "      <td>2.372374</td>\n",
       "      <td>0.151551</td>\n",
       "    </tr>\n",
       "    <tr>\n",
       "      <td>std</td>\n",
       "      <td>8.529209</td>\n",
       "      <td>1.447689</td>\n",
       "      <td>1.591905</td>\n",
       "      <td>0.295293</td>\n",
       "      <td>3.865607</td>\n",
       "      <td>0.521638</td>\n",
       "    </tr>\n",
       "    <tr>\n",
       "      <td>min</td>\n",
       "      <td>13.000000</td>\n",
       "      <td>0.000000</td>\n",
       "      <td>1.000000</td>\n",
       "      <td>0.000000</td>\n",
       "      <td>0.000000</td>\n",
       "      <td>0.000000</td>\n",
       "    </tr>\n",
       "    <tr>\n",
       "      <td>25%</td>\n",
       "      <td>20.000000</td>\n",
       "      <td>1.000000</td>\n",
       "      <td>2.000000</td>\n",
       "      <td>0.000000</td>\n",
       "      <td>0.000000</td>\n",
       "      <td>0.000000</td>\n",
       "    </tr>\n",
       "    <tr>\n",
       "      <td>50%</td>\n",
       "      <td>25.000000</td>\n",
       "      <td>2.000000</td>\n",
       "      <td>2.000000</td>\n",
       "      <td>0.000000</td>\n",
       "      <td>0.540000</td>\n",
       "      <td>0.000000</td>\n",
       "    </tr>\n",
       "    <tr>\n",
       "      <td>75%</td>\n",
       "      <td>32.000000</td>\n",
       "      <td>3.000000</td>\n",
       "      <td>3.000000</td>\n",
       "      <td>0.000000</td>\n",
       "      <td>3.000000</td>\n",
       "      <td>0.000000</td>\n",
       "    </tr>\n",
       "    <tr>\n",
       "      <td>max</td>\n",
       "      <td>84.000000</td>\n",
       "      <td>11.000000</td>\n",
       "      <td>28.000000</td>\n",
       "      <td>3.000000</td>\n",
       "      <td>30.000000</td>\n",
       "      <td>4.000000</td>\n",
       "    </tr>\n",
       "  </tbody>\n",
       "</table>\n",
       "</div>"
      ],
      "text/plain": [
       "              Age  No_pregnancies  No_of_sex_partner  STDs_No_of_diagnosis  \\\n",
       "count  838.000000      838.000000         838.000000            838.000000   \n",
       "mean    26.812649        2.278640           2.513723              0.084726   \n",
       "std      8.529209        1.447689           1.591905              0.295293   \n",
       "min     13.000000        0.000000           1.000000              0.000000   \n",
       "25%     20.000000        1.000000           2.000000              0.000000   \n",
       "50%     25.000000        2.000000           2.000000              0.000000   \n",
       "75%     32.000000        3.000000           3.000000              0.000000   \n",
       "max     84.000000       11.000000          28.000000              3.000000   \n",
       "\n",
       "       Hormonal_Contraceptives_years  STDs_number  \n",
       "count                     838.000000   838.000000  \n",
       "mean                        2.372374     0.151551  \n",
       "std                         3.865607     0.521638  \n",
       "min                         0.000000     0.000000  \n",
       "25%                         0.000000     0.000000  \n",
       "50%                         0.540000     0.000000  \n",
       "75%                         3.000000     0.000000  \n",
       "max                        30.000000     4.000000  "
      ]
     },
     "execution_count": 36,
     "metadata": {},
     "output_type": "execute_result"
    }
   ],
   "source": [
    "df_impute[['Age','No_pregnancies', 'No_of_sex_partner',\n",
    " 'First_sexual_intercourse',\n",
    " 'Smokes_yrs',\n",
    " 'Smokes_packs_yr',\n",
    " 'STDs_No_of_diagnosis', 'Hormonal_Contraceptives_years', 'IUD_years', 'STDs_number']].describe()"
   ]
  },
  {
   "cell_type": "code",
   "execution_count": 37,
   "metadata": {},
   "outputs": [],
   "source": [
    "df_impute.to_csv('datasets/df_imputation.csv')"
   ]
  },
  {
   "cell_type": "code",
   "execution_count": 38,
   "metadata": {},
   "outputs": [],
   "source": [
    "df = pd.read_csv('df_imputation.csv', index_col=0) #df_imputation is the new CSV file that doesn't have any null values.\n",
    "\n",
    "#Again manually segregating categorical and numerical colmuns\n",
    "\n",
    "x_features_categorical = ['Smokes','Hormonal_Contraceptives','IUD','STDs','STDs_condylomatosis','STDs_cervical_condylomatosis',\n",
    "                          'STDs_vaginal_condylomatosis','STDs_vulvo_perineal_condylomatosis','STDs_syphilis',\n",
    "                          'STDs_pelvic_inflammatory_disease','STDs_genital_herpes','STDs_molluscum_contagiosum','STDs_AIDS',\n",
    "                          'STDs_HIV','STDs_Hepatitis_B','STDs_HPV','Dx_Cancer','Dx_CIN','Dx_HPV','Dx', 'Hinselmann', 'Citology', 'Biopsy']\n",
    "\n",
    "x_features_numerical = [x for x in df.columns if x not in x_features_categorical]"
   ]
  },
  {
   "cell_type": "code",
   "execution_count": 39,
   "metadata": {},
   "outputs": [
    {
     "data": {
      "image/png": "[encoded data removed]",
      "text/plain": [
       "<Figure size 864x576 with 1 Axes>"
      ]
     },
     "metadata": {},
     "output_type": "display_data"
    }
   ],
   "source": [
    "impute = df.copy()\n",
    "impute=df.astype('float')\n",
    "\n",
    "plt.figure(figsize = (12,8))\n",
    "plt.pie(impute['Biopsy'].value_counts(), labels = ['NO', 'YES'], autopct = '%1.1f%%', labeldistance=1.1, textprops = {'fontsize': 20})\n",
    "plt.title('Biopsy Percentage', fontsize=20)\n",
    "plt.show()"
   ]
  },
  {
   "cell_type": "code",
   "execution_count": 40,
   "metadata": {},
   "outputs": [
    {
     "name": "stdout",
     "output_type": "stream",
     "text": [
      "Count Plots of Categorical Columns\n",
      "\n",
      "****************************************************************************************************\n"
     ]
    },
    {
     "data": {
      "image/png": "[encoded data removed]",
      "text/plain": [
       "<Figure size 432x288 with 1 Axes>"
      ]
     },
     "metadata": {
      "needs_background": "light"
     },
     "output_type": "display_data"
    },
    {
     "name": "stdout",
     "output_type": "stream",
     "text": [
      "****************************************************************************************************\n"
     ]
    },
    {
     "data": {
      "image/png": "[encoded data removed]",
      "text/plain": [
       "<Figure size 432x288 with 1 Axes>"
      ]
     },
     "metadata": {
      "needs_background": "light"
     },
     "output_type": "display_data"
    },
    {
     "name": "stdout",
     "output_type": "stream",
     "text": [
      "****************************************************************************************************\n"
     ]
    },
    {
     "data": {
      "image/png": "[encoded data removed]",
      "text/plain": [
       "<Figure size 432x288 with 1 Axes>"
      ]
     },
     "metadata": {
      "needs_background": "light"
     },
     "output_type": "display_data"
    },
    {
     "name": "stdout",
     "output_type": "stream",
     "text": [
      "****************************************************************************************************\n"
     ]
    },
    {
     "data": {
      "image/png": "[encoded data removed]",
      "text/plain": [
       "<Figure size 432x288 with 1 Axes>"
      ]
     },
     "metadata": {
      "needs_background": "light"
     },
     "output_type": "display_data"
    },
    {
     "name": "stdout",
     "output_type": "stream",
     "text": [
      "****************************************************************************************************\n"
     ]
    },
    {
     "data": {
      "image/png": "[encoded data removed]",
      "text/plain": [
       "<Figure size 432x288 with 1 Axes>"
      ]
     },
     "metadata": {
      "needs_background": "light"
     },
     "output_type": "display_data"
    },
    {
     "name": "stdout",
     "output_type": "stream",
     "text": [
      "****************************************************************************************************\n"
     ]
    },
    {
     "data": {
      "image/png": "[encoded data removed]",
      "text/plain": [
       "<Figure size 432x288 with 1 Axes>"
      ]
     },
     "metadata": {
      "needs_background": "light"
     },
     "output_type": "display_data"
    },
    {
     "name": "stdout",
     "output_type": "stream",
     "text": [
      "****************************************************************************************************\n"
     ]
    },
    {
     "data": {
      "image/png": "[encoded data removed]",
      "text/plain": [
       "<Figure size 432x288 with 1 Axes>"
      ]
     },
     "metadata": {
      "needs_background": "light"
     },
     "output_type": "display_data"
    },
    {
     "name": "stdout",
     "output_type": "stream",
     "text": [
      "****************************************************************************************************\n"
     ]
    },
    {
     "data": {
      "image/png": "[encoded data removed]",
      "text/plain": [
       "<Figure size 432x288 with 1 Axes>"
      ]
     },
     "metadata": {
      "needs_background": "light"
     },
     "output_type": "display_data"
    },
    {
     "name": "stdout",
     "output_type": "stream",
     "text": [
      "****************************************************************************************************\n"
     ]
    },
    {
     "data": {
      "image/png": "[encoded data removed]",
      "text/plain": [
       "<Figure size 432x288 with 1 Axes>"
      ]
     },
     "metadata": {
      "needs_background": "light"
     },
     "output_type": "display_data"
    },
    {
     "name": "stdout",
     "output_type": "stream",
     "text": [
      "****************************************************************************************************\n"
     ]
    },
    {
     "data": {
      "image/png": "[encoded data removed]",
      "text/plain": [
       "<Figure size 432x288 with 1 Axes>"
      ]
     },
     "metadata": {
      "needs_background": "light"
     },
     "output_type": "display_data"
    },
    {
     "name": "stdout",
     "output_type": "stream",
     "text": [
      "****************************************************************************************************\n"
     ]
    },
    {
     "data": {
      "image/png": "[encoded data removed]",
      "text/plain": [
       "<Figure size 432x288 with 1 Axes>"
      ]
     },
     "metadata": {
      "needs_background": "light"
     },
     "output_type": "display_data"
    },
    {
     "name": "stdout",
     "output_type": "stream",
     "text": [
      "****************************************************************************************************\n"
     ]
    },
    {
     "data": {
      "image/png": "[encoded data removed]",
      "text/plain": [
       "<Figure size 432x288 with 1 Axes>"
      ]
     },
     "metadata": {
      "needs_background": "light"
     },
     "output_type": "display_data"
    },
    {
     "name": "stdout",
     "output_type": "stream",
     "text": [
      "****************************************************************************************************\n"
     ]
    },
    {
     "data": {
      "image/png": "[encoded data removed]",
      "text/plain": [
       "<Figure size 432x288 with 1 Axes>"
      ]
     },
     "metadata": {
      "needs_background": "light"
     },
     "output_type": "display_data"
    },
    {
     "name": "stdout",
     "output_type": "stream",
     "text": [
      "****************************************************************************************************\n"
     ]
    },
    {
     "data": {
      "image/png": "[encoded data removed]",
      "text/plain": [
       "<Figure size 432x288 with 1 Axes>"
      ]
     },
     "metadata": {
      "needs_background": "light"
     },
     "output_type": "display_data"
    },
    {
     "name": "stdout",
     "output_type": "stream",
     "text": [
      "****************************************************************************************************\n"
     ]
    },
    {
     "data": {
      "image/png": "[encoded data removed]",
      "text/plain": [
       "<Figure size 432x288 with 1 Axes>"
      ]
     },
     "metadata": {
      "needs_background": "light"
     },
     "output_type": "display_data"
    },
    {
     "name": "stdout",
     "output_type": "stream",
     "text": [
      "****************************************************************************************************\n"
     ]
    },
    {
     "data": {
      "image/png": "[encoded data removed]",
      "text/plain": [
       "<Figure size 432x288 with 1 Axes>"
      ]
     },
     "metadata": {
      "needs_background": "light"
     },
     "output_type": "display_data"
    },
    {
     "name": "stdout",
     "output_type": "stream",
     "text": [
      "****************************************************************************************************\n"
     ]
    },
    {
     "data": {
      "image/png": "[encoded data removed]",
      "text/plain": [
       "<Figure size 432x288 with 1 Axes>"
      ]
     },
     "metadata": {
      "needs_background": "light"
     },
     "output_type": "display_data"
    },
    {
     "name": "stdout",
     "output_type": "stream",
     "text": [
      "****************************************************************************************************\n"
     ]
    },
    {
     "data": {
      "image/png": "[encoded data removed]",
      "text/plain": [
       "<Figure size 432x288 with 1 Axes>"
      ]
     },
     "metadata": {
      "needs_background": "light"
     },
     "output_type": "display_data"
    },
    {
     "name": "stdout",
     "output_type": "stream",
     "text": [
      "****************************************************************************************************\n"
     ]
    },
    {
     "data": {
      "image/png": "[encoded data removed]",
      "text/plain": [
       "<Figure size 432x288 with 1 Axes>"
      ]
     },
     "metadata": {
      "needs_background": "light"
     },
     "output_type": "display_data"
    },
    {
     "name": "stdout",
     "output_type": "stream",
     "text": [
      "****************************************************************************************************\n"
     ]
    },
    {
     "data": {
      "image/png": "[encoded data removed]",
      "text/plain": [
       "<Figure size 432x288 with 1 Axes>"
      ]
     },
     "metadata": {
      "needs_background": "light"
     },
     "output_type": "display_data"
    },
    {
     "name": "stdout",
     "output_type": "stream",
     "text": [
      "****************************************************************************************************\n"
     ]
    },
    {
     "data": {
      "image/png": "[encoded data removed]",
      "text/plain": [
       "<Figure size 432x288 with 1 Axes>"
      ]
     },
     "metadata": {
      "needs_background": "light"
     },
     "output_type": "display_data"
    },
    {
     "name": "stdout",
     "output_type": "stream",
     "text": [
      "****************************************************************************************************\n"
     ]
    },
    {
     "data": {
      "image/png": "[encoded data removed]",
      "text/plain": [
       "<Figure size 432x288 with 1 Axes>"
      ]
     },
     "metadata": {
      "needs_background": "light"
     },
     "output_type": "display_data"
    },
    {
     "name": "stdout",
     "output_type": "stream",
     "text": [
      "****************************************************************************************************\n"
     ]
    },
    {
     "data": {
      "image/png": "[encoded data removed]",
      "text/plain": [
       "<Figure size 432x288 with 1 Axes>"
      ]
     },
     "metadata": {
      "needs_background": "light"
     },
     "output_type": "display_data"
    }
   ],
   "source": [
    "print(\"Count Plots of Categorical Columns\");print()\n",
    "for i in impute[x_features_categorical]:\n",
    "        print('*'*100)\n",
    "        sns.countplot(impute[i])\n",
    "        plt.title(i)\n",
    "        plt.show()"
   ]
  },
  {
   "cell_type": "code",
   "execution_count": 41,
   "metadata": {},
   "outputs": [
    {
     "name": "stdout",
     "output_type": "stream",
     "text": [
      "Density Plots\n",
      "\n",
      "****************************************************************************************************\n"
     ]
    },
    {
     "data": {
      "image/png": "[encoded data removed]",
      "text/plain": [
       "<Figure size 432x288 with 1 Axes>"
      ]
     },
     "metadata": {
      "needs_background": "light"
     },
     "output_type": "display_data"
    },
    {
     "name": "stdout",
     "output_type": "stream",
     "text": [
      "****************************************************************************************************\n"
     ]
    },
    {
     "data": {
      "image/png": "[encoded data removed]",
      "text/plain": [
       "<Figure size 432x288 with 1 Axes>"
      ]
     },
     "metadata": {
      "needs_background": "light"
     },
     "output_type": "display_data"
    },
    {
     "name": "stdout",
     "output_type": "stream",
     "text": [
      "****************************************************************************************************\n"
     ]
    },
    {
     "data": {
      "image/png": "[encoded data removed]",
      "text/plain": [
       "<Figure size 432x288 with 1 Axes>"
      ]
     },
     "metadata": {
      "needs_background": "light"
     },
     "output_type": "display_data"
    },
    {
     "name": "stdout",
     "output_type": "stream",
     "text": [
      "****************************************************************************************************\n"
     ]
    },
    {
     "data": {
      "image/png": "[encoded data removed]",
      "text/plain": [
       "<Figure size 432x288 with 1 Axes>"
      ]
     },
     "metadata": {
      "needs_background": "light"
     },
     "output_type": "display_data"
    },
    {
     "name": "stdout",
     "output_type": "stream",
     "text": [
      "****************************************************************************************************\n"
     ]
    },
    {
     "data": {
      "image/png": "[encoded data removed]",
      "text/plain": [
       "<Figure size 432x288 with 1 Axes>"
      ]
     },
     "metadata": {
      "needs_background": "light"
     },
     "output_type": "display_data"
    },
    {
     "name": "stdout",
     "output_type": "stream",
     "text": [
      "****************************************************************************************************\n"
     ]
    },
    {
     "data": {
      "image/png": "[encoded data removed]",
      "text/plain": [
       "<Figure size 432x288 with 1 Axes>"
      ]
     },
     "metadata": {
      "needs_background": "light"
     },
     "output_type": "display_data"
    },
    {
     "name": "stdout",
     "output_type": "stream",
     "text": [
      "****************************************************************************************************\n"
     ]
    },
    {
     "data": {
      "image/png": "[encoded data removed]",
      "text/plain": [
       "<Figure size 432x288 with 1 Axes>"
      ]
     },
     "metadata": {
      "needs_background": "light"
     },
     "output_type": "display_data"
    },
    {
     "name": "stdout",
     "output_type": "stream",
     "text": [
      "****************************************************************************************************\n"
     ]
    },
    {
     "data": {
      "image/png": "[encoded data removed]",
      "text/plain": [
       "<Figure size 432x288 with 1 Axes>"
      ]
     },
     "metadata": {
      "needs_background": "light"
     },
     "output_type": "display_data"
    },
    {
     "name": "stdout",
     "output_type": "stream",
     "text": [
      "****************************************************************************************************\n"
     ]
    },
    {
     "data": {
      "image/png": "[encoded data removed]",
      "text/plain": [
       "<Figure size 432x288 with 1 Axes>"
      ]
     },
     "metadata": {
      "needs_background": "light"
     },
     "output_type": "display_data"
    },
    {
     "name": "stdout",
     "output_type": "stream",
     "text": [
      "****************************************************************************************************\n"
     ]
    },
    {
     "data": {
      "image/png": "[encoded data removed]",
      "text/plain": [
       "<Figure size 432x288 with 1 Axes>"
      ]
     },
     "metadata": {
      "needs_background": "light"
     },
     "output_type": "display_data"
    },
    {
     "name": "stdout",
     "output_type": "stream",
     "text": [
      "****************************************************************************************************\n"
     ]
    },
    {
     "data": {
      "image/png": "[encoded data removed]",
      "text/plain": [
       "<Figure size 432x288 with 1 Axes>"
      ]
     },
     "metadata": {
      "needs_background": "light"
     },
     "output_type": "display_data"
    }
   ],
   "source": [
    "print(\"Density Plots\");print()\n",
    "for i in impute[x_features_numerical]:\n",
    "        print('*'*100)\n",
    "        sns.distplot(impute[i])\n",
    "        plt.title(i)\n",
    "        plt.show()"
   ]
  },
  {
   "cell_type": "code",
   "execution_count": 42,
   "metadata": {},
   "outputs": [],
   "source": [
    "numerical=['Age','No_of_sex_partner','First_sexual_intercourse','No_pregnancies','Smokes_yrs','Smokes_packs_yr',\n",
    " 'Hormonal_Contraceptives_years','IUD_years'] # --> Choosing the proper numerical features \n",
    "\n",
    "df_copy = df.copy()\n",
    "df_copy[numerical]=df_copy[numerical].astype('float64')"
   ]
  },
  {
   "cell_type": "code",
   "execution_count": 41,
   "metadata": {
    "scrolled": false
   },
   "outputs": [
    {
     "data": {
      "text/plain": [
       "array([[<matplotlib.axes._subplots.AxesSubplot object at 0x000001360F7806A0>,\n",
       "        <matplotlib.axes._subplots.AxesSubplot object at 0x000001360F91F128>,\n",
       "        <matplotlib.axes._subplots.AxesSubplot object at 0x000001360F8EC0F0>,\n",
       "        <matplotlib.axes._subplots.AxesSubplot object at 0x000001360FAC05C0>],\n",
       "       [<matplotlib.axes._subplots.AxesSubplot object at 0x000001360E40C128>,\n",
       "        <matplotlib.axes._subplots.AxesSubplot object at 0x000001360E3A9128>,\n",
       "        <matplotlib.axes._subplots.AxesSubplot object at 0x0000013610B0C588>,\n",
       "        <matplotlib.axes._subplots.AxesSubplot object at 0x000001360F73FA20>],\n",
       "       [<matplotlib.axes._subplots.AxesSubplot object at 0x000001360F73FA58>,\n",
       "        <matplotlib.axes._subplots.AxesSubplot object at 0x000001360E3EF3C8>,\n",
       "        <matplotlib.axes._subplots.AxesSubplot object at 0x000001360FA9F940>,\n",
       "        <matplotlib.axes._subplots.AxesSubplot object at 0x000001360F827EB8>],\n",
       "       [<matplotlib.axes._subplots.AxesSubplot object at 0x000001360E45DB70>,\n",
       "        <matplotlib.axes._subplots.AxesSubplot object at 0x000001360F8862B0>,\n",
       "        <matplotlib.axes._subplots.AxesSubplot object at 0x000001360F7CCF60>,\n",
       "        <matplotlib.axes._subplots.AxesSubplot object at 0x000001360FA2A358>]],\n",
       "      dtype=object)"
      ]
     },
     "execution_count": 41,
     "metadata": {},
     "output_type": "execute_result"
    },
    {
     "data": {
      "image/png": "[encoded data removed]",
      "text/plain": [
       "<Figure size 1008x1008 with 16 Axes>"
      ]
     },
     "metadata": {
      "needs_background": "light"
     },
     "output_type": "display_data"
    }
   ],
   "source": [
    "df_copy[numerical].plot(kind='bar',subplots=True, layout=(4,4), fontsize=8, figsize=(14,14))"
   ]
  },
  {
   "cell_type": "code",
   "execution_count": 43,
   "metadata": {
    "scrolled": false
   },
   "outputs": [
    {
     "name": "stdout",
     "output_type": "stream",
     "text": [
      "range of Age b/w 2.0 and 50.0\n",
      "range of No_of_sex_partner b/w 0.5 and 4.5\n",
      "range of First_sexual_intercourse b/w 10.5 and 22.5\n",
      "range of No_pregnancies b/w -2.0 and 6.0\n",
      "range of Smokes_yrs b/w 0.0 and 0.0\n",
      "range of Smokes_packs_yr b/w 0.0 and 0.0\n",
      "range of Hormonal_Contraceptives_years b/w -4.5 and 7.5\n",
      "range of IUD_years b/w 0.0 and 0.0\n"
     ]
    }
   ],
   "source": [
    "IQR=df_copy[numerical].describe().T['75%']-df_copy[numerical].describe().T['25%']\n",
    "\n",
    "min,max=[df_copy[numerical].describe().T['25%']-(IQR*1.5),df_copy[numerical].describe().T['75%']+(IQR*1.5)]\n",
    "\n",
    "for i in numerical:\n",
    "    print('range of',i,'b/w',min[i],'and',max[i])\n",
    "\n",
    "for i in numerical:\n",
    "    df_copy[i][df_copy[i]>max[i]]=max[i]\n",
    "    df_copy[i][df_copy[i]<min[i]]=min[i]"
   ]
  },
  {
   "cell_type": "code",
   "execution_count": 43,
   "metadata": {
    "scrolled": false
   },
   "outputs": [
    {
     "data": {
      "text/plain": [
       "array([[<matplotlib.axes._subplots.AxesSubplot object at 0x000001361471B278>,\n",
       "        <matplotlib.axes._subplots.AxesSubplot object at 0x0000013615421F28>,\n",
       "        <matplotlib.axes._subplots.AxesSubplot object at 0x0000013615D0F240>,\n",
       "        <matplotlib.axes._subplots.AxesSubplot object at 0x00000136147E68D0>],\n",
       "       [<matplotlib.axes._subplots.AxesSubplot object at 0x0000013615600B00>,\n",
       "        <matplotlib.axes._subplots.AxesSubplot object at 0x0000013615E2D9E8>,\n",
       "        <matplotlib.axes._subplots.AxesSubplot object at 0x0000013615E83B00>,\n",
       "        <matplotlib.axes._subplots.AxesSubplot object at 0x0000013615ED8DA0>],\n",
       "       [<matplotlib.axes._subplots.AxesSubplot object at 0x0000013615ED8780>,\n",
       "        <matplotlib.axes._subplots.AxesSubplot object at 0x0000013615756048>,\n",
       "        <matplotlib.axes._subplots.AxesSubplot object at 0x000001361606EFD0>,\n",
       "        <matplotlib.axes._subplots.AxesSubplot object at 0x0000013615AD9FD0>],\n",
       "       [<matplotlib.axes._subplots.AxesSubplot object at 0x000001361614FCF8>,\n",
       "        <matplotlib.axes._subplots.AxesSubplot object at 0x00000136161B9A20>,\n",
       "        <matplotlib.axes._subplots.AxesSubplot object at 0x000001361620E550>,\n",
       "        <matplotlib.axes._subplots.AxesSubplot object at 0x0000013614D087B8>]],\n",
       "      dtype=object)"
      ]
     },
     "execution_count": 43,
     "metadata": {},
     "output_type": "execute_result"
    },
    {
     "data": {
      "image/png": "[encoded data removed]",
      "text/plain": [
       "<Figure size 1008x1008 with 16 Axes>"
      ]
     },
     "metadata": {
      "needs_background": "light"
     },
     "output_type": "display_data"
    }
   ],
   "source": [
    "df_copy[numerical].plot(kind='bar',subplots=True, layout=(4,4), fontsize=8, figsize=(14,14))\n"
   ]
  },
  {
   "cell_type": "code",
   "execution_count": 44,
   "metadata": {},
   "outputs": [],
   "source": [
    "from sklearn.linear_model import LogisticRegression \n",
    "from sklearn.ensemble import RandomForestClassifier\n",
    "from sklearn.neighbors import KNeighborsClassifier\n",
    "from sklearn.ensemble import GradientBoostingClassifier\n",
    "from sklearn.ensemble import ExtraTreesClassifier\n",
    "from sklearn.ensemble import AdaBoostClassifier\n",
    "#from catboost import CatBoostClassifier\n",
    "from sklearn.naive_bayes import GaussianNB\n",
    "from sklearn.svm import SVC\n",
    "from sklearn import tree\n",
    "#import lightgbm as lgb\n",
    "#from lightgbm import LGBMClassifier\n",
    "import xgboost as xgb\n",
    "\n",
    "from sklearn.model_selection import train_test_split\n",
    "from scipy import interp\n",
    "from sklearn.metrics import classification_report, accuracy_score, auc\n",
    "from sklearn.metrics import roc_auc_score\n",
    "from sklearn.metrics import roc_curve\n",
    "from sklearn import metrics\n",
    "from sklearn.metrics import confusion_matrix"
   ]
  },
  {
   "cell_type": "code",
   "execution_count": 45,
   "metadata": {},
   "outputs": [
    {
     "name": "stdout",
     "output_type": "stream",
     "text": [
      "838\n"
     ]
    }
   ],
   "source": [
    "from sklearn import ensemble\n",
    "\n",
    "our_anomaly_detector = ensemble.IsolationForest(contamination = 0.1, random_state=42)\n",
    "our_anomaly_detector.fit(df[numerical])\n",
    "\n",
    "training_predictions = our_anomaly_detector.predict(df[numerical])\n",
    "print(len(training_predictions))"
   ]
  },
  {
   "cell_type": "code",
   "execution_count": 46,
   "metadata": {},
   "outputs": [],
   "source": [
    "outlier_label = []\n",
    "outlier_label = list(training_predictions)"
   ]
  },
  {
   "cell_type": "code",
   "execution_count": 47,
   "metadata": {},
   "outputs": [
    {
     "name": "stdout",
     "output_type": "stream",
     "text": [
      "84\n",
      "754\n"
     ]
    }
   ],
   "source": [
    "anomaly_iso = outlier_label.count(-1)\n",
    "print(anomaly_iso)\n",
    "normal_iso = outlier_label.count(1)\n",
    "print(normal_iso)"
   ]
  },
  {
   "cell_type": "code",
   "execution_count": 48,
   "metadata": {},
   "outputs": [],
   "source": [
    "df = df.astype('float64')\n",
    "\n",
    "x = df.drop('Biopsy', axis=1)\n",
    "y = df['Biopsy']\n",
    "\n",
    "SS = StandardScaler()\n",
    "df_scaled = pd.DataFrame(SS.fit_transform(x), columns = x.columns) # as scaling mandotory for KNN model \n",
    "\n",
    "x_train,x_test,y_train,y_test = train_test_split(x,y, test_size = 0.3, random_state = 1)\n",
    "x_train1,x_test1,y_train,y_test = train_test_split(df_scaled,y, test_size = 0.3, random_state = 1)\n",
    "\n",
    "l= []  #List to store the various model metrics "
   ]
  },
  {
   "cell_type": "code",
   "execution_count": 49,
   "metadata": {},
   "outputs": [],
   "source": [
    "def models_lr(x,y):\n",
    "    mod = {}\n",
    "    model = LogisticRegression().fit(x,y)\n",
    "    ypred = model.predict(x_test)\n",
    "    mod['Model'] = 'LogisticRegression'\n",
    "    mod['Train_Score'] = model.score(x_train,y_train)\n",
    "    mod['Test_accuracy'] = metrics.accuracy_score(y_test,ypred)\n",
    "    mod['f1score'] = metrics.f1_score(y_test,ypred)\n",
    "    mod['recall'] = metrics.recall_score(y_test, ypred)\n",
    "    mod['precision'] = metrics.precision_score(y_test, ypred)\n",
    "    model.predict_proba(x_test)\n",
    "    mod['roc_auc'] = metrics.roc_auc_score(y_test,ypred)\n",
    "    return mod\n",
    "l.append(models_lr(x_train,y_train))\n",
    "\n",
    "def models_dt(x,y):\n",
    "    mod = {}\n",
    "    model = DecisionTreeClassifier().fit(x,y)\n",
    "    ypred = model.predict(x_test)\n",
    "    mod['Model'] = 'Decision Tree'\n",
    "    mod['Train_Score'] = model.score(x_train,y_train)\n",
    "    mod['Test_accuracy'] = metrics.accuracy_score(y_test,ypred)\n",
    "    mod['f1score'] = metrics.f1_score(y_test,ypred)\n",
    "    mod['recall'] = metrics.recall_score(y_test, ypred)\n",
    "    mod['precision'] = metrics.precision_score(y_test, ypred)\n",
    "    model.predict_proba(x_test)\n",
    "    mod['roc_auc'] = metrics.roc_auc_score(y_test,ypred)\n",
    "    return mod\n",
    "l.append(models_dt(x_train,y_train))\n",
    "\n",
    "def models_rf(x,y):\n",
    "    mod = {}\n",
    "    model = RandomForestClassifier().fit(x,y)\n",
    "    ypred = model.predict(x_test)\n",
    "    mod['Model'] = 'Random Forest'\n",
    "    mod['Train_Score'] = model.score(x_train,y_train)\n",
    "    mod['Test_accuracy'] = metrics.accuracy_score(y_test,ypred)\n",
    "    mod['f1score'] = metrics.f1_score(y_test,ypred)\n",
    "    mod['recall'] = metrics.recall_score(y_test, ypred)\n",
    "    mod['precision'] = metrics.precision_score(y_test, ypred)\n",
    "    model.predict_proba(x_test)\n",
    "    mod['roc_auc'] = metrics.roc_auc_score(y_test,ypred)\n",
    "    return mod\n",
    "l.append(models_rf(x_train,y_train))\n",
    "\n",
    "def models_nb(x,y):\n",
    "    mod = {}\n",
    "    model = GaussianNB().fit(x,y)\n",
    "    ypred = model.predict(x_test)\n",
    "    mod['Model'] = 'GaussianNB'\n",
    "    mod['Train_Score'] = model.score(x_train,y_train)\n",
    "    mod['Test_accuracy'] = metrics.accuracy_score(y_test,ypred)\n",
    "    mod['f1score'] = metrics.f1_score(y_test,ypred)\n",
    "    mod['recall'] = metrics.recall_score(y_test, ypred)\n",
    "    mod['precision'] = metrics.precision_score(y_test, ypred)\n",
    "    model.predict_proba(x_test)\n",
    "    mod['roc_auc'] = metrics.roc_auc_score(y_test,ypred)\n",
    "    return mod\n",
    "l.append(models_nb(x_train,y_train))\n",
    "\n",
    "def models_knn(x,y):\n",
    "    mod = {}\n",
    "    model = KNeighborsClassifier().fit(x,y)\n",
    "    ypred = model.predict(x_test1)\n",
    "    mod['Model'] = 'KNN'\n",
    "    mod['Train_Score'] = model.score(x_train1,y_train)\n",
    "    mod['Test_accuracy'] = metrics.accuracy_score(y_test,ypred)\n",
    "    mod['f1score'] = metrics.f1_score(y_test,ypred)\n",
    "    mod['recall'] = metrics.recall_score(y_test, ypred)\n",
    "    mod['precision'] = metrics.precision_score(y_test, ypred)\n",
    "    model.predict_proba(x_test1)\n",
    "    mod['roc_auc'] = metrics.roc_auc_score(y_test,ypred)\n",
    "    return mod\n",
    "l.append(models_knn(x_train1,y_train))\n",
    "\n",
    "def models_ada(x,y):\n",
    "    mod = {}\n",
    "    model = AdaBoostClassifier(n_estimators=100, random_state=0).fit(x,y)\n",
    "    ypred = model.predict(x_test)\n",
    "    mod['Model'] = 'AdaBoostClassifier'\n",
    "    mod['Train_Score'] = model.score(x_train,y_train)\n",
    "    mod['Test_accuracy'] = metrics.accuracy_score(y_test,ypred)\n",
    "    mod['f1score'] = metrics.f1_score(y_test,ypred)\n",
    "    mod['recall'] = metrics.recall_score(y_test, ypred)\n",
    "    mod['precision'] = metrics.precision_score(y_test, ypred)\n",
    "    model.predict_proba(x_test)\n",
    "    mod['roc_auc'] = metrics.roc_auc_score(y_test,ypred)\n",
    "    return mod\n",
    "l.append(models_ada(x_train,y_train))\n",
    "\n",
    "def models_xg(x,y):\n",
    "    mod = {}\n",
    "    model = xgb.XGBClassifier(objective=\"binary:logistic\", random_state=42, eval_metric=\"auc\").fit(x,y)\n",
    "    ypred = model.predict(x_test)\n",
    "    mod['Model'] = 'XGBClasssifier'\n",
    "    mod['Train_Score'] = model.score(x_train,y_train)\n",
    "    mod['Test_accuracy'] = metrics.accuracy_score(y_test,ypred)\n",
    "    mod['f1score'] = metrics.f1_score(y_test,ypred)\n",
    "    mod['recall'] = metrics.recall_score(y_test, ypred)\n",
    "    mod['precision'] = metrics.precision_score(y_test, ypred)\n",
    "    model.predict_proba(x_test)\n",
    "    mod['roc_auc'] = metrics.roc_auc_score(y_test,ypred)\n",
    "    return mod\n",
    "l.append(models_xg(x_train,y_train))\n",
    "\n",
    "def models_gbc(x,y):\n",
    "    mod = {}\n",
    "    model = GradientBoostingClassifier(loss='exponential', learning_rate=0.03, n_estimators=75 , max_depth=6).fit(x,y)\n",
    "    ypred = model.predict(x_test)\n",
    "    mod['Model'] = 'GradientBoostingClassifier'\n",
    "    mod['Train_Score'] = model.score(x_train,y_train)\n",
    "    mod['Test_accuracy'] = metrics.accuracy_score(y_test,ypred)\n",
    "    mod['f1score'] = metrics.f1_score(y_test,ypred)\n",
    "    mod['recall'] = metrics.recall_score(y_test, ypred)\n",
    "    mod['precision'] = metrics.precision_score(y_test, ypred)\n",
    "    model.predict_proba(x_test)\n",
    "    mod['roc_auc'] = metrics.roc_auc_score(y_test,ypred)\n",
    "    return mod\n",
    "l.append(models_gbc(x_train,y_train))\n",
    "\n",
    "def models_svm(x,y):\n",
    "    mod = {}\n",
    "    model = SVC(kernel='rbf', probability=True).fit(x,y)\n",
    "    ypred = model.predict(x_test)\n",
    "    mod['Model'] = 'SupportVectorClassifier'\n",
    "    mod['Train_Score'] = model.score(x_train,y_train)\n",
    "    mod['Test_accuracy'] = metrics.accuracy_score(y_test,ypred)\n",
    "    mod['f1score'] = metrics.f1_score(y_test,ypred)\n",
    "    mod['recall'] = metrics.recall_score(y_test, ypred)\n",
    "    mod['precision'] = metrics.precision_score(y_test, ypred)\n",
    "    model.predict_proba(x_test)\n",
    "    mod['roc_auc'] = metrics.roc_auc_score(y_test,ypred)\n",
    "    return mod\n",
    "l.append(models_svm(x_train,y_train))\n",
    "\n",
    "\n",
    "def models_etc(x,y):\n",
    "    mod = {}\n",
    "    model = ExtraTreesClassifier(n_estimators=250, random_state=0).fit(x,y)\n",
    "    ypred = model.predict(x_test)\n",
    "    mod['Model'] = 'ExtraTreesClassifier'\n",
    "    mod['Train_Score'] = model.score(x_train,y_train)\n",
    "    mod['Test_accuracy'] = metrics.accuracy_score(y_test,ypred)\n",
    "    mod['f1score'] = metrics.f1_score(y_test,ypred)\n",
    "    mod['recall'] = metrics.recall_score(y_test, ypred)\n",
    "    mod['precision'] = metrics.precision_score(y_test, ypred)\n",
    "    model.predict_proba(x_test)\n",
    "    mod['roc_auc'] = metrics.roc_auc_score(y_test,ypred)\n",
    "    return mod\n",
    "l.append(models_etc(x_train,y_train))\n",
    "\n",
    "from sklearn.naive_bayes import BernoulliNB\n",
    "def models_bnb(x,y):\n",
    "    mod = {}\n",
    "    model = BernoulliNB().fit(x,y)\n",
    "    ypred = model.predict(x_test)\n",
    "    mod['Model'] = 'BernoulliNB'\n",
    "    mod['Train_Score'] = model.score(x_train,y_train)\n",
    "    mod['Test_accuracy'] = metrics.accuracy_score(y_test,ypred)\n",
    "    mod['f1score'] = metrics.f1_score(y_test,ypred)\n",
    "    mod['recall'] = metrics.recall_score(y_test, ypred)\n",
    "    mod['precision'] = metrics.precision_score(y_test, ypred)\n",
    "    model.predict_proba(x_test)\n",
    "    mod['roc_auc'] = metrics.roc_auc_score(y_test,ypred)\n",
    "    return mod\n",
    "l.append(models_bnb(x_train,y_train))\n"
   ]
  },
  {
   "cell_type": "code",
   "execution_count": 50,
   "metadata": {},
   "outputs": [
    {
     "data": {
      "text/html": [
       "<div>\n",
       "<style scoped>\n",
       "    .dataframe tbody tr th:only-of-type {\n",
       "        vertical-align: middle;\n",
       "    }\n",
       "\n",
       "    .dataframe tbody tr th {\n",
       "        vertical-align: top;\n",
       "    }\n",
       "\n",
       "    .dataframe thead th {\n",
       "        text-align: right;\n",
       "    }\n",
       "</style>\n",
       "<table border=\"1\" class=\"dataframe\">\n",
       "  <thead>\n",
       "    <tr style=\"text-align: right;\">\n",
       "      <th></th>\n",
       "      <th>Model</th>\n",
       "      <th>Train_Score</th>\n",
       "      <th>Test_accuracy</th>\n",
       "      <th>f1score</th>\n",
       "      <th>recall</th>\n",
       "      <th>precision</th>\n",
       "      <th>roc_auc</th>\n",
       "    </tr>\n",
       "  </thead>\n",
       "  <tbody>\n",
       "    <tr>\n",
       "      <td>0</td>\n",
       "      <td>LogisticRegression</td>\n",
       "      <td>0.974403</td>\n",
       "      <td>0.952381</td>\n",
       "      <td>0.571429</td>\n",
       "      <td>0.533333</td>\n",
       "      <td>0.615385</td>\n",
       "      <td>0.756118</td>\n",
       "    </tr>\n",
       "    <tr>\n",
       "      <td>1</td>\n",
       "      <td>Decision Tree</td>\n",
       "      <td>1.000000</td>\n",
       "      <td>0.948413</td>\n",
       "      <td>0.648649</td>\n",
       "      <td>0.800000</td>\n",
       "      <td>0.545455</td>\n",
       "      <td>0.878903</td>\n",
       "    </tr>\n",
       "    <tr>\n",
       "      <td>2</td>\n",
       "      <td>Random Forest</td>\n",
       "      <td>1.000000</td>\n",
       "      <td>0.944444</td>\n",
       "      <td>0.611111</td>\n",
       "      <td>0.733333</td>\n",
       "      <td>0.523810</td>\n",
       "      <td>0.845570</td>\n",
       "    </tr>\n",
       "    <tr>\n",
       "      <td>3</td>\n",
       "      <td>GaussianNB</td>\n",
       "      <td>0.146758</td>\n",
       "      <td>0.095238</td>\n",
       "      <td>0.116279</td>\n",
       "      <td>1.000000</td>\n",
       "      <td>0.061728</td>\n",
       "      <td>0.518987</td>\n",
       "    </tr>\n",
       "    <tr>\n",
       "      <td>4</td>\n",
       "      <td>KNN</td>\n",
       "      <td>0.950512</td>\n",
       "      <td>0.936508</td>\n",
       "      <td>0.333333</td>\n",
       "      <td>0.266667</td>\n",
       "      <td>0.444444</td>\n",
       "      <td>0.622785</td>\n",
       "    </tr>\n",
       "    <tr>\n",
       "      <td>5</td>\n",
       "      <td>AdaBoostClassifier</td>\n",
       "      <td>0.991468</td>\n",
       "      <td>0.948413</td>\n",
       "      <td>0.580645</td>\n",
       "      <td>0.600000</td>\n",
       "      <td>0.562500</td>\n",
       "      <td>0.785232</td>\n",
       "    </tr>\n",
       "    <tr>\n",
       "      <td>6</td>\n",
       "      <td>XGBClasssifier</td>\n",
       "      <td>1.000000</td>\n",
       "      <td>0.944444</td>\n",
       "      <td>0.588235</td>\n",
       "      <td>0.666667</td>\n",
       "      <td>0.526316</td>\n",
       "      <td>0.814346</td>\n",
       "    </tr>\n",
       "    <tr>\n",
       "      <td>7</td>\n",
       "      <td>GradientBoostingClassifier</td>\n",
       "      <td>0.994881</td>\n",
       "      <td>0.952381</td>\n",
       "      <td>0.647059</td>\n",
       "      <td>0.733333</td>\n",
       "      <td>0.578947</td>\n",
       "      <td>0.849789</td>\n",
       "    </tr>\n",
       "    <tr>\n",
       "      <td>8</td>\n",
       "      <td>SupportVectorClassifier</td>\n",
       "      <td>0.933447</td>\n",
       "      <td>0.940476</td>\n",
       "      <td>0.000000</td>\n",
       "      <td>0.000000</td>\n",
       "      <td>0.000000</td>\n",
       "      <td>0.500000</td>\n",
       "    </tr>\n",
       "    <tr>\n",
       "      <td>9</td>\n",
       "      <td>ExtraTreesClassifier</td>\n",
       "      <td>1.000000</td>\n",
       "      <td>0.952381</td>\n",
       "      <td>0.684211</td>\n",
       "      <td>0.866667</td>\n",
       "      <td>0.565217</td>\n",
       "      <td>0.912236</td>\n",
       "    </tr>\n",
       "    <tr>\n",
       "      <td>10</td>\n",
       "      <td>BernoulliNB</td>\n",
       "      <td>0.940273</td>\n",
       "      <td>0.928571</td>\n",
       "      <td>0.500000</td>\n",
       "      <td>0.600000</td>\n",
       "      <td>0.428571</td>\n",
       "      <td>0.774684</td>\n",
       "    </tr>\n",
       "  </tbody>\n",
       "</table>\n",
       "</div>"
      ],
      "text/plain": [
       "                         Model  Train_Score  Test_accuracy   f1score  \\\n",
       "0           LogisticRegression     0.974403       0.952381  0.571429   \n",
       "1                Decision Tree     1.000000       0.948413  0.648649   \n",
       "2                Random Forest     1.000000       0.944444  0.611111   \n",
       "3                   GaussianNB     0.146758       0.095238  0.116279   \n",
       "4                          KNN     0.950512       0.936508  0.333333   \n",
       "5           AdaBoostClassifier     0.991468       0.948413  0.580645   \n",
       "6               XGBClasssifier     1.000000       0.944444  0.588235   \n",
       "7   GradientBoostingClassifier     0.994881       0.952381  0.647059   \n",
       "8      SupportVectorClassifier     0.933447       0.940476  0.000000   \n",
       "9         ExtraTreesClassifier     1.000000       0.952381  0.684211   \n",
       "10                 BernoulliNB     0.940273       0.928571  0.500000   \n",
       "\n",
       "      recall  precision   roc_auc  \n",
       "0   0.533333   0.615385  0.756118  \n",
       "1   0.800000   0.545455  0.878903  \n",
       "2   0.733333   0.523810  0.845570  \n",
       "3   1.000000   0.061728  0.518987  \n",
       "4   0.266667   0.444444  0.622785  \n",
       "5   0.600000   0.562500  0.785232  \n",
       "6   0.666667   0.526316  0.814346  \n",
       "7   0.733333   0.578947  0.849789  \n",
       "8   0.000000   0.000000  0.500000  \n",
       "9   0.866667   0.565217  0.912236  \n",
       "10  0.600000   0.428571  0.774684  "
      ]
     },
     "execution_count": 50,
     "metadata": {},
     "output_type": "execute_result"
    }
   ],
   "source": [
    "\n",
    "base_df = pd.DataFrame(l)\n",
    "base_df"
   ]
  },
  {
   "cell_type": "code",
   "execution_count": 51,
   "metadata": {},
   "outputs": [
    {
     "name": "stdout",
     "output_type": "stream",
     "text": [
      "Score KNeighnors : 0.9365079365079365\n",
      "              precision    recall  f1-score   support\n",
      "\n",
      "         0.0       0.95      0.98      0.97       237\n",
      "         1.0       0.43      0.20      0.27        15\n",
      "\n",
      "    accuracy                           0.94       252\n",
      "   macro avg       0.69      0.59      0.62       252\n",
      "weighted avg       0.92      0.94      0.93       252\n",
      "\n"
     ]
    }
   ],
   "source": [
    "knneig = KNeighborsClassifier(n_neighbors=10)\n",
    "knneig.fit(x_train1, y_train)\n",
    "pred_knneigh = knneig.predict(x_test1)\n",
    "score_knneigh_before = accuracy_score(y_test, pred_knneigh)\n",
    "print(\"Score KNeighnors :\",score_knneigh_before)\n",
    "print(classification_report(y_test, pred_knneigh))"
   ]
  },
  {
   "cell_type": "code",
   "execution_count": null,
   "metadata": {},
   "outputs": [],
   "source": []
  },
  {
   "cell_type": "code",
   "execution_count": null,
   "metadata": {},
   "outputs": [],
   "source": []
  },
  {
   "cell_type": "code",
   "execution_count": 51,
   "metadata": {},
   "outputs": [],
   "source": [
    "\n",
    "# q = 0\n",
    "\n",
    "# while q < len(outlier_label):\n",
    "#     if outlier_label[q] == -1:\n",
    "#         df.drop(q, axis = 0, inplace = True)\n",
    "#     q+=1"
   ]
  },
  {
   "cell_type": "code",
   "execution_count": 52,
   "metadata": {
    "scrolled": true
   },
   "outputs": [
    {
     "name": "stdout",
     "output_type": "stream",
     "text": [
      "[(0.0, 547), (1.0, 541)]\n"
     ]
    }
   ],
   "source": [
    "from imblearn.over_sampling import (RandomOverSampler,SMOTE,ADASYN)\n",
    "x_train_s, y_train_s = ADASYN(random_state=42).fit_resample(x_train, y_train.ravel())\n",
    "print(sorted(Counter(y_train_s).items()))"
   ]
  },
  {
   "cell_type": "code",
   "execution_count": 53,
   "metadata": {},
   "outputs": [],
   "source": [
    "l_final = [] #--> New list for storing metrics of base models\n",
    "\n",
    "def models_dt(x,y):\n",
    "    mod = {}\n",
    "    model = DecisionTreeClassifier().fit(x,y)\n",
    "    ypred = model.predict(x_test)\n",
    "    mod['Model'] = 'Decision Tree After Sampling'\n",
    "    mod['Train_Score'] = model.score(x_train_s,y_train_s)\n",
    "    mod['Test_accuracy'] = metrics.accuracy_score(y_test,ypred)\n",
    "    mod['f1score'] = metrics.f1_score(y_test,ypred)\n",
    "    mod['recall'] = metrics.recall_score(y_test, ypred)\n",
    "    mod['precision'] = metrics.precision_score(y_test, ypred)\n",
    "    model.predict_proba(x_test)\n",
    "    mod['roc_auc'] = metrics.roc_auc_score(y_test,ypred)\n",
    "    return mod\n",
    "l_final.append(models_dt(x_train_s,y_train_s))\n",
    "\n",
    "def models_rf(x,y):\n",
    "    mod = {}\n",
    "    model = RandomForestClassifier().fit(x,y)\n",
    "    ypred = model.predict(x_test)\n",
    "    mod['Model'] = 'Random Forest After Sampling'\n",
    "    mod['Train_Score'] = model.score(x_train_s,y_train_s)\n",
    "    mod['Test_accuracy'] = metrics.accuracy_score(y_test,ypred)\n",
    "    mod['f1score'] = metrics.f1_score(y_test,ypred)\n",
    "    mod['recall'] = metrics.recall_score(y_test, ypred)\n",
    "    mod['precision'] = metrics.precision_score(y_test, ypred)\n",
    "    model.predict_proba(x_test)\n",
    "    mod['roc_auc'] = metrics.roc_auc_score(y_test,ypred)\n",
    "    return mod\n",
    "l_final.append(models_rf(x_train_s,y_train_s))\n",
    "\n",
    "def models_lr(x,y):\n",
    "    mod = {}\n",
    "    model = LogisticRegression().fit(x,y)\n",
    "    ypred = model.predict(x_test)\n",
    "    mod['Model'] = 'LogisticRegression'\n",
    "    mod['Train_Score'] = model.score(x_train_s,y_train_s)\n",
    "    mod['Test_accuracy'] = metrics.accuracy_score(y_test,ypred)\n",
    "    mod['f1score'] = metrics.f1_score(y_test,ypred)\n",
    "    mod['recall'] = metrics.recall_score(y_test, ypred)\n",
    "    mod['precision'] = metrics.precision_score(y_test, ypred)\n",
    "    model.predict_proba(x_test)\n",
    "    mod['roc_auc'] = metrics.roc_auc_score(y_test,ypred)\n",
    "    return mod\n",
    "l_final.append(models_lr(x_train_s,y_train_s))\n",
    "\n",
    "def models_nb(x,y):\n",
    "    mod = {}\n",
    "    model = GaussianNB().fit(x,y)\n",
    "    ypred = model.predict(x_test)\n",
    "    mod['Model'] = 'GaussianNB'\n",
    "    mod['Train_Score'] = model.score(x_train_s,y_train_s)\n",
    "    mod['Test_accuracy'] = metrics.accuracy_score(y_test,ypred)\n",
    "    mod['f1score'] = metrics.f1_score(y_test,ypred)\n",
    "    mod['recall'] = metrics.recall_score(y_test, ypred)\n",
    "    mod['precision'] = metrics.precision_score(y_test, ypred)\n",
    "    model.predict_proba(x_test)\n",
    "    mod['roc_auc'] = metrics.roc_auc_score(y_test,ypred)\n",
    "    return mod\n",
    "l_final.append(models_nb(x_train_s,y_train_s))\n",
    "\n",
    "def models_knn(x,y):\n",
    "    mod = {}\n",
    "    model = KNeighborsClassifier().fit(x,y)\n",
    "    ypred = model.predict(x_test)\n",
    "    mod['Model'] = 'KNN'\n",
    "    mod['Train_Score'] = model.score(x_train_s,y_train_s)\n",
    "    mod['Test_accuracy'] = metrics.accuracy_score(y_test,ypred)\n",
    "    mod['f1score'] = metrics.f1_score(y_test,ypred)\n",
    "    mod['recall'] = metrics.recall_score(y_test, ypred)\n",
    "    mod['precision'] = metrics.precision_score(y_test, ypred)\n",
    "    model.predict_proba(x_test)\n",
    "    mod['roc_auc'] = metrics.roc_auc_score(y_test,ypred)\n",
    "    return mod\n",
    "l_final.append(models_knn(x_train_s,y_train_s))\n",
    "\n",
    "def models_ada(x,y):\n",
    "    mod = {}\n",
    "    model = AdaBoostClassifier(n_estimators=100, random_state=0).fit(x,y)\n",
    "    ypred = model.predict(x_test)\n",
    "    mod['Model'] = 'AdaBoostClassifier'\n",
    "    mod['Train_Score'] = model.score(x_train_s,y_train_s)\n",
    "    mod['Test_accuracy'] = metrics.accuracy_score(y_test,ypred)\n",
    "    mod['f1score'] = metrics.f1_score(y_test,ypred)\n",
    "    mod['recall'] = metrics.recall_score(y_test, ypred)\n",
    "    mod['precision'] = metrics.precision_score(y_test, ypred)\n",
    "    model.predict_proba(x_test)\n",
    "    mod['roc_auc'] = metrics.roc_auc_score(y_test,ypred)\n",
    "    return mod\n",
    "l_final.append(models_ada(x_train_s,y_train_s))\n",
    "\n",
    "def models_xg(x,y):\n",
    "    mod = {}\n",
    "    model = xgb.XGBClassifier(objective=\"binary:logistic\", random_state=42, eval_metric=\"auc\").fit(x,y)\n",
    "    ypred = model.predict(x_test)\n",
    "    mod['Model'] = 'XGBClassifier'\n",
    "    mod['Train_Score'] = model.score(x_train_s,y_train_s)\n",
    "    mod['Test_accuracy'] = metrics.accuracy_score(y_test,ypred)\n",
    "    mod['f1score'] = metrics.f1_score(y_test,ypred)\n",
    "    mod['recall'] = metrics.recall_score(y_test, ypred)\n",
    "    mod['precision'] = metrics.precision_score(y_test, ypred)\n",
    "    model.predict_proba(x_test)\n",
    "    mod['roc_auc'] = metrics.roc_auc_score(y_test,ypred)\n",
    "    return mod\n",
    "l_final.append(models_xg(x_train_s,y_train_s))\n",
    "\n",
    "def models_gbc(x,y):\n",
    "    mod = {}\n",
    "    model = GradientBoostingClassifier(loss='exponential', learning_rate=0.03, n_estimators=75 , max_depth=6).fit(x,y)\n",
    "    ypred = model.predict(x_test)\n",
    "    mod['Model'] = 'GradientBoostingClassifier'\n",
    "    mod['Train_Score'] = model.score(x_train_s,y_train_s)\n",
    "    mod['Test_accuracy'] = metrics.accuracy_score(y_test,ypred)\n",
    "    mod['f1score'] = metrics.f1_score(y_test,ypred)\n",
    "    mod['recall'] = metrics.recall_score(y_test, ypred)\n",
    "    mod['precision'] = metrics.precision_score(y_test, ypred)\n",
    "    model.predict_proba(x_test)\n",
    "    mod['roc_auc'] = metrics.roc_auc_score(y_test,ypred)\n",
    "    return mod\n",
    "l_final.append(models_gbc(x_train_s,y_train_s))\n",
    "\n",
    "def models_svm(x,y):\n",
    "    mod = {}\n",
    "    model = SVC(kernel='rbf', probability=True).fit(x,y)\n",
    "    ypred = model.predict(x_test)\n",
    "    mod['Model'] = 'SupportVectorClassifier'\n",
    "    mod['Train_Score'] = model.score(x_train_s,y_train_s)\n",
    "    mod['Test_accuracy'] = metrics.accuracy_score(y_test,ypred)\n",
    "    mod['f1score'] = metrics.f1_score(y_test,ypred)\n",
    "    mod['recall'] = metrics.recall_score(y_test, ypred)\n",
    "    mod['precision'] = metrics.precision_score(y_test, ypred)\n",
    "    model.predict_proba(x_test)\n",
    "    mod['roc_auc'] = metrics.roc_auc_score(y_test,ypred)\n",
    "    return mod\n",
    "l_final.append(models_svm(x_train_s,y_train_s))\n",
    "\n",
    "\n",
    "def models_etc(x,y):\n",
    "    mod = {}\n",
    "    model = ExtraTreesClassifier(n_estimators=250, random_state=0).fit(x,y)\n",
    "    ypred = model.predict(x_test)\n",
    "    mod['Model'] = 'ExtraTreesClassifier'\n",
    "    mod['Train_Score'] = model.score(x_train_s,y_train_s)\n",
    "    mod['Test_accuracy'] = metrics.accuracy_score(y_test,ypred)\n",
    "    mod['f1score'] = metrics.f1_score(y_test,ypred)\n",
    "    mod['recall'] = metrics.recall_score(y_test, ypred)\n",
    "    mod['precision'] = metrics.precision_score(y_test, ypred)\n",
    "    model.predict_proba(x_test)\n",
    "    mod['roc_auc'] = metrics.roc_auc_score(y_test,ypred)\n",
    "    return mod\n",
    "l_final.append(models_etc(x_train_s,y_train_s))\n",
    "\n",
    "from sklearn.naive_bayes import BernoulliNB\n",
    "def models_bnb(x,y):\n",
    "    mod = {}\n",
    "    model = BernoulliNB().fit(x,y)\n",
    "    ypred = model.predict(x_test)\n",
    "    mod['Model'] = 'BernoulliNB'\n",
    "    mod['Train_Score'] = model.score(x_train_s,y_train_s)\n",
    "    mod['Test_accuracy'] = metrics.accuracy_score(y_test,ypred)\n",
    "    mod['f1score'] = metrics.f1_score(y_test,ypred)\n",
    "    mod['recall'] = metrics.recall_score(y_test, ypred)\n",
    "    mod['precision'] = metrics.precision_score(y_test, ypred)\n",
    "    model.predict_proba(x_test)\n",
    "    mod['roc_auc'] = metrics.roc_auc_score(y_test,ypred)\n",
    "    return mod\n",
    "l_final.append(models_bnb(x_train_s,y_train_s))\n"
   ]
  },
  {
   "cell_type": "code",
   "execution_count": 54,
   "metadata": {},
   "outputs": [
    {
     "data": {
      "text/html": [
       "<div>\n",
       "<style scoped>\n",
       "    .dataframe tbody tr th:only-of-type {\n",
       "        vertical-align: middle;\n",
       "    }\n",
       "\n",
       "    .dataframe tbody tr th {\n",
       "        vertical-align: top;\n",
       "    }\n",
       "\n",
       "    .dataframe thead th {\n",
       "        text-align: right;\n",
       "    }\n",
       "</style>\n",
       "<table border=\"1\" class=\"dataframe\">\n",
       "  <thead>\n",
       "    <tr style=\"text-align: right;\">\n",
       "      <th></th>\n",
       "      <th>Model</th>\n",
       "      <th>Train_Score</th>\n",
       "      <th>Test_accuracy</th>\n",
       "      <th>f1score</th>\n",
       "      <th>recall</th>\n",
       "      <th>precision</th>\n",
       "      <th>roc_auc</th>\n",
       "    </tr>\n",
       "  </thead>\n",
       "  <tbody>\n",
       "    <tr>\n",
       "      <td>0</td>\n",
       "      <td>Decision Tree After Sampling</td>\n",
       "      <td>1.000000</td>\n",
       "      <td>0.952381</td>\n",
       "      <td>0.684211</td>\n",
       "      <td>0.866667</td>\n",
       "      <td>0.565217</td>\n",
       "      <td>0.912236</td>\n",
       "    </tr>\n",
       "    <tr>\n",
       "      <td>1</td>\n",
       "      <td>Random Forest After Sampling</td>\n",
       "      <td>1.000000</td>\n",
       "      <td>0.952381</td>\n",
       "      <td>0.684211</td>\n",
       "      <td>0.866667</td>\n",
       "      <td>0.565217</td>\n",
       "      <td>0.912236</td>\n",
       "    </tr>\n",
       "    <tr>\n",
       "      <td>2</td>\n",
       "      <td>LogisticRegression</td>\n",
       "      <td>0.960478</td>\n",
       "      <td>0.944444</td>\n",
       "      <td>0.650000</td>\n",
       "      <td>0.866667</td>\n",
       "      <td>0.520000</td>\n",
       "      <td>0.908017</td>\n",
       "    </tr>\n",
       "    <tr>\n",
       "      <td>3</td>\n",
       "      <td>GaussianNB</td>\n",
       "      <td>0.544118</td>\n",
       "      <td>0.111111</td>\n",
       "      <td>0.111111</td>\n",
       "      <td>0.933333</td>\n",
       "      <td>0.059072</td>\n",
       "      <td>0.496203</td>\n",
       "    </tr>\n",
       "    <tr>\n",
       "      <td>4</td>\n",
       "      <td>KNN</td>\n",
       "      <td>0.943015</td>\n",
       "      <td>0.789683</td>\n",
       "      <td>0.101695</td>\n",
       "      <td>0.200000</td>\n",
       "      <td>0.068182</td>\n",
       "      <td>0.513502</td>\n",
       "    </tr>\n",
       "    <tr>\n",
       "      <td>5</td>\n",
       "      <td>AdaBoostClassifier</td>\n",
       "      <td>0.994485</td>\n",
       "      <td>0.944444</td>\n",
       "      <td>0.562500</td>\n",
       "      <td>0.600000</td>\n",
       "      <td>0.529412</td>\n",
       "      <td>0.783122</td>\n",
       "    </tr>\n",
       "    <tr>\n",
       "      <td>6</td>\n",
       "      <td>XGBClassifier</td>\n",
       "      <td>1.000000</td>\n",
       "      <td>0.952381</td>\n",
       "      <td>0.666667</td>\n",
       "      <td>0.800000</td>\n",
       "      <td>0.571429</td>\n",
       "      <td>0.881013</td>\n",
       "    </tr>\n",
       "    <tr>\n",
       "      <td>7</td>\n",
       "      <td>GradientBoostingClassifier</td>\n",
       "      <td>0.994485</td>\n",
       "      <td>0.956349</td>\n",
       "      <td>0.717949</td>\n",
       "      <td>0.933333</td>\n",
       "      <td>0.583333</td>\n",
       "      <td>0.945570</td>\n",
       "    </tr>\n",
       "    <tr>\n",
       "      <td>8</td>\n",
       "      <td>SupportVectorClassifier</td>\n",
       "      <td>0.851103</td>\n",
       "      <td>0.888889</td>\n",
       "      <td>0.391304</td>\n",
       "      <td>0.600000</td>\n",
       "      <td>0.290323</td>\n",
       "      <td>0.753586</td>\n",
       "    </tr>\n",
       "    <tr>\n",
       "      <td>9</td>\n",
       "      <td>ExtraTreesClassifier</td>\n",
       "      <td>1.000000</td>\n",
       "      <td>0.952381</td>\n",
       "      <td>0.684211</td>\n",
       "      <td>0.866667</td>\n",
       "      <td>0.565217</td>\n",
       "      <td>0.912236</td>\n",
       "    </tr>\n",
       "    <tr>\n",
       "      <td>10</td>\n",
       "      <td>BernoulliNB</td>\n",
       "      <td>0.954963</td>\n",
       "      <td>0.896825</td>\n",
       "      <td>0.409091</td>\n",
       "      <td>0.600000</td>\n",
       "      <td>0.310345</td>\n",
       "      <td>0.757806</td>\n",
       "    </tr>\n",
       "  </tbody>\n",
       "</table>\n",
       "</div>"
      ],
      "text/plain": [
       "                           Model  Train_Score  Test_accuracy   f1score  \\\n",
       "0   Decision Tree After Sampling     1.000000       0.952381  0.684211   \n",
       "1   Random Forest After Sampling     1.000000       0.952381  0.684211   \n",
       "2             LogisticRegression     0.960478       0.944444  0.650000   \n",
       "3                     GaussianNB     0.544118       0.111111  0.111111   \n",
       "4                            KNN     0.943015       0.789683  0.101695   \n",
       "5             AdaBoostClassifier     0.994485       0.944444  0.562500   \n",
       "6                  XGBClassifier     1.000000       0.952381  0.666667   \n",
       "7     GradientBoostingClassifier     0.994485       0.956349  0.717949   \n",
       "8        SupportVectorClassifier     0.851103       0.888889  0.391304   \n",
       "9           ExtraTreesClassifier     1.000000       0.952381  0.684211   \n",
       "10                   BernoulliNB     0.954963       0.896825  0.409091   \n",
       "\n",
       "      recall  precision   roc_auc  \n",
       "0   0.866667   0.565217  0.912236  \n",
       "1   0.866667   0.565217  0.912236  \n",
       "2   0.866667   0.520000  0.908017  \n",
       "3   0.933333   0.059072  0.496203  \n",
       "4   0.200000   0.068182  0.513502  \n",
       "5   0.600000   0.529412  0.783122  \n",
       "6   0.800000   0.571429  0.881013  \n",
       "7   0.933333   0.583333  0.945570  \n",
       "8   0.600000   0.290323  0.753586  \n",
       "9   0.866667   0.565217  0.912236  \n",
       "10  0.600000   0.310345  0.757806  "
      ]
     },
     "execution_count": 54,
     "metadata": {},
     "output_type": "execute_result"
    }
   ],
   "source": [
    "final_model = pd.DataFrame(l_final)\n",
    "final_model"
   ]
  },
  {
   "cell_type": "code",
   "execution_count": 55,
   "metadata": {},
   "outputs": [
    {
     "name": "stdout",
     "output_type": "stream",
     "text": [
      "Score KNeighnors : 0.9404761904761905\n",
      "              precision    recall  f1-score   support\n",
      "\n",
      "         0.0       0.94      1.00      0.97       237\n",
      "         1.0       0.00      0.00      0.00        15\n",
      "\n",
      "    accuracy                           0.94       252\n",
      "   macro avg       0.47      0.50      0.48       252\n",
      "weighted avg       0.88      0.94      0.91       252\n",
      "\n"
     ]
    }
   ],
   "source": [
    "knneig = KNeighborsClassifier(n_neighbors=10)\n",
    "knneig.fit(x_train_s, y_train_s)\n",
    "pred_knneigh = knneig.predict(x_test1)\n",
    "score_knneigh_before = accuracy_score(y_test, pred_knneigh)\n",
    "print(\"Score KNeighnors :\",score_knneigh_before)\n",
    "print(classification_report(y_test, pred_knneigh))"
   ]
  },
  {
   "cell_type": "code",
   "execution_count": 56,
   "metadata": {},
   "outputs": [
    {
     "name": "stdout",
     "output_type": "stream",
     "text": [
      "0.9523809523809523\n",
      "              precision    recall  f1-score   support\n",
      "\n",
      "         0.0       0.99      0.96      0.97       237\n",
      "         1.0       0.57      0.87      0.68        15\n",
      "\n",
      "    accuracy                           0.95       252\n",
      "   macro avg       0.78      0.91      0.83       252\n",
      "weighted avg       0.97      0.95      0.96       252\n",
      "\n"
     ]
    }
   ],
   "source": [
    "rfc = RandomForestClassifier(n_estimators=100,random_state = 42)\n",
    "rfc.fit(x_train_s, y_train_s)\n",
    "rfc_pred = rfc.predict(x_test)\n",
    "print(accuracy_score(y_test,rfc_pred))\n",
    "print(classification_report(y_test,rfc_pred))"
   ]
  },
  {
   "cell_type": "code",
   "execution_count": 57,
   "metadata": {},
   "outputs": [
    {
     "name": "stdout",
     "output_type": "stream",
     "text": [
      "0.9444444444444444\n",
      "              precision    recall  f1-score   support\n",
      "\n",
      "         0.0       0.99      0.95      0.97       237\n",
      "         1.0       0.52      0.87      0.65        15\n",
      "\n",
      "    accuracy                           0.94       252\n",
      "   macro avg       0.76      0.91      0.81       252\n",
      "weighted avg       0.96      0.94      0.95       252\n",
      "\n"
     ]
    }
   ],
   "source": [
    "logmodel = LogisticRegression()\n",
    "logmodel.fit(x_train_s,y_train_s)\n",
    "predictions = logmodel.predict(x_test)\n",
    "print(accuracy_score(y_test, predictions))\n",
    "print(classification_report(y_test,predictions))"
   ]
  },
  {
   "cell_type": "code",
   "execution_count": 58,
   "metadata": {},
   "outputs": [
    {
     "name": "stdout",
     "output_type": "stream",
     "text": [
      "0.9523809523809523\n",
      "              precision    recall  f1-score   support\n",
      "\n",
      "         0.0       0.99      0.96      0.97       237\n",
      "         1.0       0.57      0.87      0.68        15\n",
      "\n",
      "    accuracy                           0.95       252\n",
      "   macro avg       0.78      0.91      0.83       252\n",
      "weighted avg       0.97      0.95      0.96       252\n",
      "\n"
     ]
    }
   ],
   "source": [
    "gbc = GradientBoostingClassifier()\n",
    "gbc.fit(x_train_s,y_train_s)\n",
    "predictions = gbc.predict(x_test)\n",
    "print(accuracy_score(y_test, predictions))\n",
    "print(classification_report(y_test,predictions))"
   ]
  },
  {
   "cell_type": "code",
   "execution_count": 59,
   "metadata": {},
   "outputs": [
    {
     "name": "stdout",
     "output_type": "stream",
     "text": [
      "0.9523809523809523\n",
      "              precision    recall  f1-score   support\n",
      "\n",
      "         0.0       0.97      0.97      0.97       237\n",
      "         1.0       0.60      0.60      0.60        15\n",
      "\n",
      "    accuracy                           0.95       252\n",
      "   macro avg       0.79      0.79      0.79       252\n",
      "weighted avg       0.95      0.95      0.95       252\n",
      "\n"
     ]
    }
   ],
   "source": [
    "ada = AdaBoostClassifier()\n",
    "ada.fit(x_train_s,y_train_s)\n",
    "predictions = ada.predict(x_test)\n",
    "print(accuracy_score(y_test, predictions))\n",
    "print(classification_report(y_test,predictions))"
   ]
  },
  {
   "cell_type": "code",
   "execution_count": 60,
   "metadata": {},
   "outputs": [
    {
     "name": "stdout",
     "output_type": "stream",
     "text": [
      "0.9444444444444444\n",
      "              precision    recall  f1-score   support\n",
      "\n",
      "         0.0       0.99      0.95      0.97       237\n",
      "         1.0       0.52      0.87      0.65        15\n",
      "\n",
      "    accuracy                           0.94       252\n",
      "   macro avg       0.76      0.91      0.81       252\n",
      "weighted avg       0.96      0.94      0.95       252\n",
      "\n"
     ]
    }
   ],
   "source": [
    "dt = DecisionTreeClassifier()\n",
    "dt.fit(x_train_s,y_train_s)\n",
    "predictions = dt.predict(x_test)\n",
    "print(accuracy_score(y_test, predictions))\n",
    "print(classification_report(y_test,predictions))"
   ]
  },
  {
   "cell_type": "code",
   "execution_count": 61,
   "metadata": {},
   "outputs": [],
   "source": [
    "r_probs = [0 for _ in range(len(y_test))]\n",
    "KNN_probs = knneig.predict_proba(x_test1)\n",
    "RF_probs = rfc.predict_proba(x_test)\n",
    "GBC_probs = gbc.predict_proba(x_test)\n",
    "DT_probs = dt.predict_proba(x_test)\n",
    "LR_probs = logmodel.predict_proba(x_test)\n",
    "ADA_probs = ada.predict_proba(x_test)\n",
    "\n",
    "\n",
    "KNN_probs = KNN_probs[:, 1]\n",
    "RF_probs = RF_probs[:, 1]\n",
    "GBC_probs = GBC_probs[:, 1]\n",
    "LR_probs = LR_probs[:, 1]\n",
    "DT_probs = DT_probs[:, 1]\n",
    "ADA_probs = ADA_probs[:, 1]\n",
    "\n",
    "\n",
    "r_auc = roc_auc_score(y_test, r_probs)\n",
    "KNN_auc = roc_auc_score(y_test, KNN_probs)\n",
    "RF_auc = roc_auc_score(y_test, RF_probs)\n",
    "GBC_auc = roc_auc_score(y_test, GBC_probs)\n",
    "LR_auc = roc_auc_score(y_test, LR_probs)\n",
    "DT_auc = roc_auc_score(y_test, DT_probs)\n",
    "ADA_auc = roc_auc_score(y_test, ADA_probs)\n",
    "\n",
    "r_fpr, r_tpr, _ = roc_curve(y_test, r_probs)\n",
    "KNN_fpr, KNN_tpr, _ = roc_curve(y_test, KNN_probs)\n",
    "RF_fpr, RF_tpr, _ = roc_curve(y_test, RF_probs)\n",
    "GBC_fpr, GBC_tpr, _ = roc_curve(y_test, GBC_probs)\n",
    "LR_fpr, LR_tpr, _ = roc_curve(y_test, LR_probs)\n",
    "DT_fpr, DT_tpr, _ = roc_curve(y_test, DT_probs)\n",
    "ADA_fpr, ADA_tpr, _ = roc_curve(y_test, ADA_probs)"
   ]
  },
  {
   "cell_type": "code",
   "execution_count": 63,
   "metadata": {},
   "outputs": [
    {
     "data": {
      "image/png": "[encoded data removed]",
      "text/plain": [
       "<Figure size 720x432 with 1 Axes>"
      ]
     },
     "metadata": {
      "needs_background": "light"
     },
     "output_type": "display_data"
    }
   ],
   "source": [
    "plt.figure(figsize=(10,6))\n",
    "plt.plot(r_fpr, r_tpr, linestyle='--')\n",
    "#plt.plot(rf_fpr, rf_tpr, marker='.', label='Random Forest (AUROC = %0.3f)' % rf_auc)\n",
    "plt.plot(KNN_fpr, KNN_tpr, label='KNN (AUROC = %0.3f)' % KNN_auc)\n",
    "plt.plot(RF_fpr, RF_tpr, label='RF (AUROC = %0.3f)' % RF_auc)\n",
    "plt.plot(GBC_fpr, GBC_tpr, label='GBC (AUROC = %0.3f)' % GBC_auc)\n",
    "plt.plot(LR_fpr, LR_tpr, label='LR (AUROC = %0.3f)' % LR_auc)\n",
    "plt.plot(DT_fpr, DT_tpr, label='DT (AUROC = %0.3f)' % DT_auc)\n",
    "plt.plot(ADA_fpr, ADA_tpr, label='ADA (AUROC = %0.3f)' % ADA_auc)\n",
    "\n",
    "\n",
    "\n",
    "# Title\n",
    "plt.title('ROC Plot (After Oversampling)')\n",
    "# Axis labels\n",
    "plt.xlabel('False Positive Rate')\n",
    "plt.ylabel('True Positive Rate')\n",
    "# Show legend\n",
    "plt.legend() # \n",
    "# Show plot\n",
    "plt.show()"
   ]
  },
  {
   "cell_type": "markdown",
   "metadata": {},
   "source": [
    "## ANN"
   ]
  },
  {
   "cell_type": "code",
   "execution_count": 54,
   "metadata": {},
   "outputs": [
    {
     "name": "stdout",
     "output_type": "stream",
     "text": [
      "WARNING:tensorflow:From C:\\Users\\Moinul\\Anaconda3\\lib\\site-packages\\tensorflow\\python\\ops\\resource_variable_ops.py:435: colocate_with (from tensorflow.python.framework.ops) is deprecated and will be removed in a future version.\n",
      "Instructions for updating:\n",
      "Colocations handled automatically by placer.\n"
     ]
    }
   ],
   "source": [
    "import tensorflow as tf\n",
    "model= tf.keras.models.Sequential()\n",
    "model.add(tf.keras.layers.Dense(units=200,activation='relu',input_shape= (33,)))\n",
    "model.add(tf.keras.layers.Dense(units=200,activation='relu'))\n",
    "model.add(tf.keras.layers.Dense(units=1,activation='sigmoid'))"
   ]
  },
  {
   "cell_type": "code",
   "execution_count": 55,
   "metadata": {
    "scrolled": true
   },
   "outputs": [
    {
     "name": "stdout",
     "output_type": "stream",
     "text": [
      "_________________________________________________________________\n",
      "Layer (type)                 Output Shape              Param #   \n",
      "=================================================================\n",
      "dense (Dense)                (None, 200)               6800      \n",
      "_________________________________________________________________\n",
      "dense_1 (Dense)              (None, 200)               40200     \n",
      "_________________________________________________________________\n",
      "dense_2 (Dense)              (None, 1)                 201       \n",
      "=================================================================\n",
      "Total params: 47,201\n",
      "Trainable params: 47,201\n",
      "Non-trainable params: 0\n",
      "_________________________________________________________________\n"
     ]
    }
   ],
   "source": [
    "model.summary()"
   ]
  },
  {
   "cell_type": "markdown",
   "metadata": {},
   "source": [
    "## After Outlier"
   ]
  },
  {
   "cell_type": "code",
   "execution_count": 56,
   "metadata": {
    "scrolled": true
   },
   "outputs": [
    {
     "name": "stdout",
     "output_type": "stream",
     "text": [
      "WARNING:tensorflow:From C:\\Users\\Moinul\\Anaconda3\\lib\\site-packages\\tensorflow\\python\\ops\\math_ops.py:3066: to_int32 (from tensorflow.python.ops.math_ops) is deprecated and will be removed in a future version.\n",
      "Instructions for updating:\n",
      "Use tf.cast instead.\n",
      "Epoch 1/50\n",
      "586/586 [==============================] - 1s 2ms/sample - loss: 0.3980 - acc: 0.9027\n",
      "Epoch 2/50\n",
      "586/586 [==============================] - 0s 159us/sample - loss: 0.2386 - acc: 0.9317\n",
      "Epoch 3/50\n",
      "586/586 [==============================] - 0s 155us/sample - loss: 0.2120 - acc: 0.9369\n",
      "Epoch 4/50\n",
      "586/586 [==============================] - 0s 145us/sample - loss: 0.2060 - acc: 0.9317\n",
      "Epoch 5/50\n",
      "586/586 [==============================] - 0s 155us/sample - loss: 0.1714 - acc: 0.9386\n",
      "Epoch 6/50\n",
      "586/586 [==============================] - 0s 160us/sample - loss: 0.1499 - acc: 0.9471\n",
      "Epoch 7/50\n",
      "586/586 [==============================] - 0s 169us/sample - loss: 0.1236 - acc: 0.9556\n",
      "Epoch 8/50\n",
      "586/586 [==============================] - 0s 164us/sample - loss: 0.1252 - acc: 0.9522\n",
      "Epoch 9/50\n",
      "586/586 [==============================] - 0s 177us/sample - loss: 0.1245 - acc: 0.9539\n",
      "Epoch 10/50\n",
      "586/586 [==============================] - 0s 182us/sample - loss: 0.0917 - acc: 0.9693\n",
      "Epoch 11/50\n",
      "586/586 [==============================] - 0s 142us/sample - loss: 0.0923 - acc: 0.9659\n",
      "Epoch 12/50\n",
      "586/586 [==============================] - 0s 164us/sample - loss: 0.0982 - acc: 0.9608\n",
      "Epoch 13/50\n",
      "586/586 [==============================] - 0s 169us/sample - loss: 0.0854 - acc: 0.9761\n",
      "Epoch 14/50\n",
      "586/586 [==============================] - 0s 172us/sample - loss: 0.0917 - acc: 0.9710\n",
      "Epoch 15/50\n",
      "586/586 [==============================] - 0s 152us/sample - loss: 0.0770 - acc: 0.9727\n",
      "Epoch 16/50\n",
      "586/586 [==============================] - 0s 184us/sample - loss: 0.0776 - acc: 0.9727\n",
      "Epoch 17/50\n",
      "586/586 [==============================] - 0s 153us/sample - loss: 0.0879 - acc: 0.9676\n",
      "Epoch 18/50\n",
      "586/586 [==============================] - 0s 150us/sample - loss: 0.0774 - acc: 0.9727\n",
      "Epoch 19/50\n",
      "586/586 [==============================] - 0s 179us/sample - loss: 0.0758 - acc: 0.9727\n",
      "Epoch 20/50\n",
      "586/586 [==============================] - 0s 133us/sample - loss: 0.0799 - acc: 0.9727\n",
      "Epoch 21/50\n",
      "586/586 [==============================] - 0s 162us/sample - loss: 0.0648 - acc: 0.9795\n",
      "Epoch 22/50\n",
      "586/586 [==============================] - 0s 162us/sample - loss: 0.0621 - acc: 0.9778\n",
      "Epoch 23/50\n",
      "586/586 [==============================] - 0s 147us/sample - loss: 0.0573 - acc: 0.9812\n",
      "Epoch 24/50\n",
      "586/586 [==============================] - 0s 188us/sample - loss: 0.0590 - acc: 0.9829\n",
      "Epoch 25/50\n",
      "586/586 [==============================] - 0s 160us/sample - loss: 0.0536 - acc: 0.9778\n",
      "Epoch 26/50\n",
      "586/586 [==============================] - 0s 154us/sample - loss: 0.0512 - acc: 0.9829\n",
      "Epoch 27/50\n",
      "586/586 [==============================] - 0s 182us/sample - loss: 0.0681 - acc: 0.9761\n",
      "Epoch 28/50\n",
      "586/586 [==============================] - 0s 162us/sample - loss: 0.0623 - acc: 0.9778\n",
      "Epoch 29/50\n",
      "586/586 [==============================] - 0s 157us/sample - loss: 0.0591 - acc: 0.9744\n",
      "Epoch 30/50\n",
      "586/586 [==============================] - 0s 164us/sample - loss: 0.0608 - acc: 0.9778\n",
      "Epoch 31/50\n",
      "586/586 [==============================] - 0s 172us/sample - loss: 0.0543 - acc: 0.9829\n",
      "Epoch 32/50\n",
      "586/586 [==============================] - 0s 177us/sample - loss: 0.0537 - acc: 0.9795\n",
      "Epoch 33/50\n",
      "586/586 [==============================] - 0s 167us/sample - loss: 0.0652 - acc: 0.9778\n",
      "Epoch 34/50\n",
      "586/586 [==============================] - 0s 128us/sample - loss: 0.0632 - acc: 0.9727\n",
      "Epoch 35/50\n",
      "586/586 [==============================] - 0s 152us/sample - loss: 0.0521 - acc: 0.9881\n",
      "Epoch 36/50\n",
      "586/586 [==============================] - 0s 162us/sample - loss: 0.0491 - acc: 0.9846\n",
      "Epoch 37/50\n",
      "586/586 [==============================] - 0s 181us/sample - loss: 0.0404 - acc: 0.9846\n",
      "Epoch 38/50\n",
      "586/586 [==============================] - 0s 130us/sample - loss: 0.0505 - acc: 0.9812\n",
      "Epoch 39/50\n",
      "586/586 [==============================] - 0s 130us/sample - loss: 0.0490 - acc: 0.9829\n",
      "Epoch 40/50\n",
      "586/586 [==============================] - 0s 169us/sample - loss: 0.0418 - acc: 0.9846\n",
      "Epoch 41/50\n",
      "586/586 [==============================] - 0s 142us/sample - loss: 0.0446 - acc: 0.9846\n",
      "Epoch 42/50\n",
      "586/586 [==============================] - 0s 130us/sample - loss: 0.0484 - acc: 0.9846\n",
      "Epoch 43/50\n",
      "586/586 [==============================] - 0s 152us/sample - loss: 0.0553 - acc: 0.9846\n",
      "Epoch 44/50\n",
      "586/586 [==============================] - 0s 140us/sample - loss: 0.0475 - acc: 0.9829\n",
      "Epoch 45/50\n",
      "586/586 [==============================] - 0s 142us/sample - loss: 0.0411 - acc: 0.9829\n",
      "Epoch 46/50\n",
      "586/586 [==============================] - 0s 140us/sample - loss: 0.0356 - acc: 0.9863\n",
      "Epoch 47/50\n",
      "586/586 [==============================] - 0s 142us/sample - loss: 0.0543 - acc: 0.9829\n",
      "Epoch 48/50\n",
      "586/586 [==============================] - 0s 142us/sample - loss: 0.0329 - acc: 0.9898\n",
      "Epoch 49/50\n",
      "586/586 [==============================] - 0s 142us/sample - loss: 0.0374 - acc: 0.9863\n",
      "Epoch 50/50\n",
      "586/586 [==============================] - 0s 148us/sample - loss: 0.0320 - acc: 0.9898\n"
     ]
    }
   ],
   "source": [
    "from sklearn import metrics\n",
    "model.compile(optimizer='adam',loss='binary_crossentropy',metrics=['accuracy'])\n",
    "\n",
    "epochs_hist = model.fit(x_train,y_train,epochs=50,batch_size=20)"
   ]
  },
  {
   "cell_type": "code",
   "execution_count": 57,
   "metadata": {},
   "outputs": [
    {
     "data": {
      "text/plain": [
       "['loss', 'acc']"
      ]
     },
     "execution_count": 57,
     "metadata": {},
     "output_type": "execute_result"
    }
   ],
   "source": [
    "model.metrics_names"
   ]
  },
  {
   "cell_type": "code",
   "execution_count": 58,
   "metadata": {},
   "outputs": [
    {
     "data": {
      "text/plain": [
       "Text(0.5, 1.0, 'Loss and Accuracy plot')"
      ]
     },
     "execution_count": 58,
     "metadata": {},
     "output_type": "execute_result"
    },
    {
     "data": {
      "image/png": "[encoded data removed]",
      "text/plain": [
       "<Figure size 432x288 with 1 Axes>"
      ]
     },
     "metadata": {
      "needs_background": "light"
     },
     "output_type": "display_data"
    }
   ],
   "source": [
    "y_pred=model.predict(x_test)\n",
    "\n",
    "y_pred = (y_pred>0.5)\n",
    "\n",
    "plt.plot(epochs_hist.history['loss'])\n",
    "plt.plot(epochs_hist.history['acc'])\n",
    "plt.xlabel('Epochs')\n",
    "plt.ylabel('percentage')\n",
    "plt.legend(['loss','accuracy'])\n",
    "plt.title('Loss and Accuracy plot')"
   ]
  },
  {
   "cell_type": "code",
   "execution_count": 59,
   "metadata": {},
   "outputs": [
    {
     "data": {
      "text/plain": [
       "<matplotlib.axes._subplots.AxesSubplot at 0x1364316b8d0>"
      ]
     },
     "execution_count": 59,
     "metadata": {},
     "output_type": "execute_result"
    },
    {
     "data": {
      "image/png": "[encoded data removed]",
      "text/plain": [
       "<Figure size 432x288 with 2 Axes>"
      ]
     },
     "metadata": {
      "needs_background": "light"
     },
     "output_type": "display_data"
    }
   ],
   "source": [
    "from sklearn.metrics import confusion_matrix,classification_report\n",
    "cm = confusion_matrix(y_test,y_pred)\n",
    "sns.heatmap(cm,annot=True)"
   ]
  },
  {
   "cell_type": "code",
   "execution_count": 60,
   "metadata": {},
   "outputs": [
    {
     "name": "stdout",
     "output_type": "stream",
     "text": [
      "              precision    recall  f1-score   support\n",
      "\n",
      "         0.0       0.97      0.97      0.97       237\n",
      "         1.0       0.57      0.53      0.55        15\n",
      "\n",
      "    accuracy                           0.95       252\n",
      "   macro avg       0.77      0.75      0.76       252\n",
      "weighted avg       0.95      0.95      0.95       252\n",
      "\n"
     ]
    }
   ],
   "source": [
    "print(classification_report(y_test,y_pred))"
   ]
  },
  {
   "cell_type": "markdown",
   "metadata": {},
   "source": [
    "## After Oversampling "
   ]
  },
  {
   "cell_type": "code",
   "execution_count": 61,
   "metadata": {
    "scrolled": true
   },
   "outputs": [
    {
     "name": "stdout",
     "output_type": "stream",
     "text": [
      "Epoch 1/50\n",
      "1088/1088 [==============================] - 0s 385us/sample - loss: 0.0720 - acc: 0.9761\n",
      "Epoch 2/50\n",
      "1088/1088 [==============================] - 0s 131us/sample - loss: 0.0545 - acc: 0.9798\n",
      "Epoch 3/50\n",
      "1088/1088 [==============================] - 0s 137us/sample - loss: 0.0610 - acc: 0.9807\n",
      "Epoch 4/50\n",
      "1088/1088 [==============================] - 0s 134us/sample - loss: 0.0396 - acc: 0.9890\n",
      "Epoch 5/50\n",
      "1088/1088 [==============================] - 0s 135us/sample - loss: 0.0438 - acc: 0.9816\n",
      "Epoch 6/50\n",
      "1088/1088 [==============================] - 0s 137us/sample - loss: 0.0492 - acc: 0.9853\n",
      "Epoch 7/50\n",
      "1088/1088 [==============================] - 0s 133us/sample - loss: 0.0366 - acc: 0.9853\n",
      "Epoch 8/50\n",
      "1088/1088 [==============================] - 0s 130us/sample - loss: 0.0383 - acc: 0.9881\n",
      "Epoch 9/50\n",
      "1088/1088 [==============================] - 0s 137us/sample - loss: 0.0336 - acc: 0.9899\n",
      "Epoch 10/50\n",
      "1088/1088 [==============================] - 0s 130us/sample - loss: 0.0293 - acc: 0.9926\n",
      "Epoch 11/50\n",
      "1088/1088 [==============================] - 0s 148us/sample - loss: 0.0302 - acc: 0.9908\n",
      "Epoch 12/50\n",
      "1088/1088 [==============================] - 0s 137us/sample - loss: 0.0282 - acc: 0.9908\n",
      "Epoch 13/50\n",
      "1088/1088 [==============================] - 0s 130us/sample - loss: 0.0295 - acc: 0.9908\n",
      "Epoch 14/50\n",
      "1088/1088 [==============================] - 0s 135us/sample - loss: 0.0300 - acc: 0.9926\n",
      "Epoch 15/50\n",
      "1088/1088 [==============================] - 0s 136us/sample - loss: 0.0297 - acc: 0.9936\n",
      "Epoch 16/50\n",
      "1088/1088 [==============================] - 0s 134us/sample - loss: 0.0302 - acc: 0.9908\n",
      "Epoch 17/50\n",
      "1088/1088 [==============================] - 0s 149us/sample - loss: 0.0290 - acc: 0.9926\n",
      "Epoch 18/50\n",
      "1088/1088 [==============================] - 0s 130us/sample - loss: 0.0219 - acc: 0.9926\n",
      "Epoch 19/50\n",
      "1088/1088 [==============================] - 0s 133us/sample - loss: 0.0414 - acc: 0.9881\n",
      "Epoch 20/50\n",
      "1088/1088 [==============================] - 0s 139us/sample - loss: 0.0847 - acc: 0.9752\n",
      "Epoch 21/50\n",
      "1088/1088 [==============================] - 0s 124us/sample - loss: 0.0400 - acc: 0.9862\n",
      "Epoch 22/50\n",
      "1088/1088 [==============================] - 0s 137us/sample - loss: 0.0212 - acc: 0.9936\n",
      "Epoch 23/50\n",
      "1088/1088 [==============================] - 0s 139us/sample - loss: 0.0194 - acc: 0.9936\n",
      "Epoch 24/50\n",
      "1088/1088 [==============================] - 0s 134us/sample - loss: 0.0178 - acc: 0.9936\n",
      "Epoch 25/50\n",
      "1088/1088 [==============================] - 0s 137us/sample - loss: 0.0156 - acc: 0.9954\n",
      "Epoch 26/50\n",
      "1088/1088 [==============================] - 0s 129us/sample - loss: 0.0171 - acc: 0.9936\n",
      "Epoch 27/50\n",
      "1088/1088 [==============================] - 0s 124us/sample - loss: 0.0163 - acc: 0.9954\n",
      "Epoch 28/50\n",
      "1088/1088 [==============================] - 0s 135us/sample - loss: 0.0131 - acc: 0.9954\n",
      "Epoch 29/50\n",
      "1088/1088 [==============================] - 0s 127us/sample - loss: 0.0247 - acc: 0.9936\n",
      "Epoch 30/50\n",
      "1088/1088 [==============================] - 0s 123us/sample - loss: 0.0189 - acc: 0.9917\n",
      "Epoch 31/50\n",
      "1088/1088 [==============================] - 0s 112us/sample - loss: 0.0137 - acc: 0.9963\n",
      "Epoch 32/50\n",
      "1088/1088 [==============================] - 0s 110us/sample - loss: 0.0141 - acc: 0.9963\n",
      "Epoch 33/50\n",
      "1088/1088 [==============================] - 0s 105us/sample - loss: 0.0122 - acc: 0.9972\n",
      "Epoch 34/50\n",
      "1088/1088 [==============================] - 0s 114us/sample - loss: 0.0099 - acc: 0.9972\n",
      "Epoch 35/50\n",
      "1088/1088 [==============================] - 0s 155us/sample - loss: 0.0102 - acc: 0.9982\n",
      "Epoch 36/50\n",
      "1088/1088 [==============================] - 0s 127us/sample - loss: 0.0139 - acc: 0.9945\n",
      "Epoch 37/50\n",
      "1088/1088 [==============================] - 0s 137us/sample - loss: 0.0123 - acc: 0.9954\n",
      "Epoch 38/50\n",
      "1088/1088 [==============================] - 0s 122us/sample - loss: 0.0138 - acc: 0.9954\n",
      "Epoch 39/50\n",
      "1088/1088 [==============================] - 0s 129us/sample - loss: 0.0096 - acc: 0.9982\n",
      "Epoch 40/50\n",
      "1088/1088 [==============================] - 0s 126us/sample - loss: 0.0119 - acc: 0.9972\n",
      "Epoch 41/50\n",
      "1088/1088 [==============================] - 0s 131us/sample - loss: 0.0139 - acc: 0.9945\n",
      "Epoch 42/50\n",
      "1088/1088 [==============================] - 0s 123us/sample - loss: 0.0089 - acc: 0.9972\n",
      "Epoch 43/50\n",
      "1088/1088 [==============================] - 0s 132us/sample - loss: 0.0075 - acc: 0.9982\n",
      "Epoch 44/50\n",
      "1088/1088 [==============================] - 0s 124us/sample - loss: 0.0101 - acc: 0.9972\n",
      "Epoch 45/50\n",
      "1088/1088 [==============================] - 0s 133us/sample - loss: 0.0139 - acc: 0.9954\n",
      "Epoch 46/50\n",
      "1088/1088 [==============================] - 0s 137us/sample - loss: 0.0154 - acc: 0.9945\n",
      "Epoch 47/50\n",
      "1088/1088 [==============================] - 0s 124us/sample - loss: 0.0090 - acc: 0.9972\n",
      "Epoch 48/50\n",
      "1088/1088 [==============================] - 0s 132us/sample - loss: 0.0074 - acc: 0.9972\n",
      "Epoch 49/50\n",
      "1088/1088 [==============================] - 0s 138us/sample - loss: 0.0084 - acc: 0.9963\n",
      "Epoch 50/50\n",
      "1088/1088 [==============================] - 0s 123us/sample - loss: 0.0096 - acc: 0.9963\n"
     ]
    }
   ],
   "source": [
    "model.compile(optimizer='adam',loss='binary_crossentropy',metrics=['accuracy'])\n",
    "\n",
    "epochs_hist = model.fit(x_train_s,y_train_s,epochs=50,batch_size=20)"
   ]
  },
  {
   "cell_type": "code",
   "execution_count": 62,
   "metadata": {},
   "outputs": [
    {
     "data": {
      "text/plain": [
       "Text(0.5, 1.0, 'Loss and Accuracy plot')"
      ]
     },
     "execution_count": 62,
     "metadata": {},
     "output_type": "execute_result"
    },
    {
     "data": {
      "image/png": "[encoded data removed]",
      "text/plain": [
       "<Figure size 432x288 with 1 Axes>"
      ]
     },
     "metadata": {
      "needs_background": "light"
     },
     "output_type": "display_data"
    }
   ],
   "source": [
    "y_pred=model.predict(x_test)\n",
    "\n",
    "y_pred = (y_pred>0.5)\n",
    "\n",
    "plt.plot(epochs_hist.history['loss'])\n",
    "plt.plot(epochs_hist.history['acc'])\n",
    "plt.xlabel('Epochs')\n",
    "plt.ylabel('percentage')\n",
    "plt.legend(['loss','accuracy'])\n",
    "plt.title('Loss and Accuracy plot')"
   ]
  },
  {
   "cell_type": "code",
   "execution_count": 63,
   "metadata": {},
   "outputs": [
    {
     "name": "stdout",
     "output_type": "stream",
     "text": [
      "              precision    recall  f1-score   support\n",
      "\n",
      "         0.0       0.97      0.97      0.97       237\n",
      "         1.0       0.53      0.60      0.56        15\n",
      "\n",
      "    accuracy                           0.94       252\n",
      "   macro avg       0.75      0.78      0.77       252\n",
      "weighted avg       0.95      0.94      0.95       252\n",
      "\n"
     ]
    },
    {
     "data": {
      "image/png": "[encoded data removed]",
      "text/plain": [
       "<Figure size 432x288 with 2 Axes>"
      ]
     },
     "metadata": {
      "needs_background": "light"
     },
     "output_type": "display_data"
    }
   ],
   "source": [
    "from sklearn.metrics import confusion_matrix,classification_report\n",
    "cm = confusion_matrix(y_test,y_pred)\n",
    "sns.heatmap(cm,annot=True)\n",
    "\n",
    "print(classification_report(y_test,y_pred))"
   ]
  },
  {
   "cell_type": "markdown",
   "metadata": {},
   "source": [
    "# Feature Scaling"
   ]
  },
  {
   "cell_type": "code",
   "execution_count": null,
   "metadata": {},
   "outputs": [],
   "source": []
  }
 ],
 "metadata": {
  "kernelspec": {
   "display_name": "Python 3",
   "language": "python",
   "name": "python3"
  },
  "language_info": {
   "codemirror_mode": {
    "name": "ipython",
    "version": 3
   },
   "file_extension": ".py",
   "mimetype": "text/x-python",
   "name": "python",
   "nbconvert_exporter": "python",
   "pygments_lexer": "ipython3",
   "version": "3.7.3"
  }
 },
 "nbformat": 4,
 "nbformat_minor": 2
}
